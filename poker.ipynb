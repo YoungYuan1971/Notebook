{
 "cells": [
  {
   "cell_type": "code",
   "execution_count": 1,
   "id": "636f52ed",
   "metadata": {},
   "outputs": [],
   "source": [
    "import random"
   ]
  },
  {
   "cell_type": "code",
   "execution_count": 2,
   "id": "21d2a690",
   "metadata": {},
   "outputs": [
    {
     "name": "stdout",
     "output_type": "stream",
     "text": [
      "['黑桃A', '黑桃K', '黑桃Q', '黑桃J', '黑桃10', '黑桃9', '黑桃8', '黑桃7', '黑桃6', '黑桃5', '黑桃4', '黑桃3', '黑桃2', '梅花A', '梅花K', '梅花Q', '梅花J', '梅花10', '梅花9', '梅花8', '梅花7', '梅花6', '梅花5', '梅花4', '梅花3', '梅花2', '红心A', '红心K', '红心Q', '红心J', '红心10', '红心9', '红心8', '红心7', '红心6', '红心5', '红心4', '红心3', '红心2', '方块A', '方块K', '方块Q', '方块J', '方块10', '方块9', '方块8', '方块7', '方块6', '方块5', '方块4', '方块3', '方块2']\n"
     ]
    }
   ],
   "source": [
    "decors = ['黑桃', '梅花', '红心', '方块']\n",
    "number = ['A', 'K', 'Q', 'J', '10', '9', '8', '7', '6', '5', '4', '3', '2']\n",
    "pokers = []\n",
    "for d in decors:\n",
    "    for n in number:\n",
    "        pokers.append(d + n)\n",
    "print(pokers)"
   ]
  },
  {
   "cell_type": "code",
   "execution_count": 3,
   "id": "48a1c9f5",
   "metadata": {},
   "outputs": [
    {
     "data": {
      "text/plain": [
       "['方块7',\n",
       " '梅花9',\n",
       " '红心3',\n",
       " '方块5',\n",
       " '方块4',\n",
       " '红心A',\n",
       " '梅花2',\n",
       " '梅花Q',\n",
       " '梅花3',\n",
       " '黑桃7',\n",
       " '梅花J',\n",
       " '方块K',\n",
       " '梅花5',\n",
       " '红心9',\n",
       " '方块9',\n",
       " '红心Q',\n",
       " '梅花4',\n",
       " '方块10',\n",
       " '方块6',\n",
       " '黑桃3',\n",
       " '黑桃Q',\n",
       " '梅花7',\n",
       " '梅花6',\n",
       " '红心4',\n",
       " '红心J',\n",
       " '黑桃8',\n",
       " '方块2',\n",
       " '黑桃5',\n",
       " '红心8',\n",
       " '梅花10',\n",
       " '方块8',\n",
       " '方块J',\n",
       " '黑桃4',\n",
       " '黑桃10',\n",
       " '梅花8',\n",
       " '方块A',\n",
       " '黑桃9',\n",
       " '黑桃J',\n",
       " '黑桃2',\n",
       " '红心5',\n",
       " '方块Q',\n",
       " '红心10',\n",
       " '红心K',\n",
       " '梅花A',\n",
       " '黑桃K',\n",
       " '红心6',\n",
       " '黑桃A',\n",
       " '红心7',\n",
       " '黑桃6',\n",
       " '梅花K',\n",
       " '红心2',\n",
       " '方块3']"
      ]
     },
     "execution_count": 3,
     "metadata": {},
     "output_type": "execute_result"
    }
   ],
   "source": [
    "random.shuffle(pokers)  # 洗牌\n",
    "pokers"
   ]
  },
  {
   "cell_type": "code",
   "execution_count": 4,
   "id": "9b5bee97",
   "metadata": {},
   "outputs": [],
   "source": [
    "Alex, Tom, Jerry, Rose = [], [], [], []\n",
    "for _ in range(13):\n",
    "    Alex.append(pokers.pop())\n",
    "    Tom.append(pokers.pop())\n",
    "    Jerry.append(pokers.pop())\n",
    "    Rose.append(pokers.pop())"
   ]
  },
  {
   "cell_type": "code",
   "execution_count": 5,
   "id": "4645ca0d",
   "metadata": {},
   "outputs": [
    {
     "name": "stdout",
     "output_type": "stream",
     "text": [
      "Alex的牌是：['方块3', '红心7', '梅花A', '红心5', '方块A', '方块J', '黑桃5', '红心4', '黑桃3', '红心Q', '方块K', '梅花Q', '方块5']\n",
      "Tom的牌是：['红心2', '黑桃A', '红心K', '黑桃2', '梅花8', '方块8', '方块2', '梅花6', '方块6', '方块9', '梅花J', '梅花2', '红心3']\n",
      "Jerry的牌是：['梅花K', '红心6', '红心10', '黑桃J', '黑桃10', '梅花10', '黑桃8', '梅花7', '方块10', '红心9', '黑桃7', '红心A', '梅花9']\n",
      "Rose的牌是：['黑桃6', '黑桃K', '方块Q', '黑桃9', '黑桃4', '红心8', '红心J', '黑桃Q', '梅花4', '梅花5', '梅花3', '方块4', '方块7']\n"
     ]
    }
   ],
   "source": [
    "print(f\"Alex的牌是：{Alex}\")\n",
    "print(f\"Tom的牌是：{Tom}\")\n",
    "print(f\"Jerry的牌是：{Jerry}\")\n",
    "print(f\"Rose的牌是：{Rose}\")"
   ]
  },
  {
   "cell_type": "code",
   "execution_count": null,
   "id": "426b24c6",
   "metadata": {},
   "outputs": [],
   "source": []
  }
 ],
 "metadata": {
  "kernelspec": {
   "display_name": "Python 3.8.8 64-bit ('venv0': venv)",
   "language": "python",
   "name": "python388jvsc74a57bd0efbf56fc117e418e44edda1cb10ef72e1d236bfeb453c90c79d8abd3fc7dd926"
  },
  "language_info": {
   "codemirror_mode": {
    "name": "ipython",
    "version": 3
   },
   "file_extension": ".py",
   "mimetype": "text/x-python",
   "name": "python",
   "nbconvert_exporter": "python",
   "pygments_lexer": "ipython3",
   "version": "3.8.8"
  }
 },
 "nbformat": 4,
 "nbformat_minor": 5
}
