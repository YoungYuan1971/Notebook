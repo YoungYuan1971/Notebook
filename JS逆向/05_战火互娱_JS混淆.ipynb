{
 "cells": [
  {
   "cell_type": "markdown",
   "id": "ea0ad766",
   "metadata": {},
   "source": [
    "战火互娱：https://passport.kongzhong.com/"
   ]
  },
  {
   "cell_type": "markdown",
   "id": "72019dd5",
   "metadata": {},
   "source": [
    "JS混淆\n",
    "  - 将JS核心的相关代码进行变相的加密，加密后的数据就是JS混淆之后的结果\n",
    "  - JS反混淆\n",
    "    - 反混淆的线上工具(不理想)\n",
    "    - 浏览器自带的反混淆工具设置(推荐)\n",
    "    - chrome开发者工具的settings=>Sources=>Search in anonymous and content scripts点上对勾\n",
    "    - 进行关键字的全局搜索=>WMxx（就是反混淆后的代码）"
   ]
  },
  {
   "cell_type": "code",
   "execution_count": 1,
   "id": "38b78372",
   "metadata": {},
   "outputs": [],
   "source": [
    "import re\n",
    "import requests\n",
    "import execjs"
   ]
  },
  {
   "cell_type": "code",
   "execution_count": 2,
   "id": "cf4c49d0",
   "metadata": {},
   "outputs": [
    {
     "data": {
      "text/plain": [
       "'3D6F29517B47AB2D683C486C2BA2530A'"
      ]
     },
     "execution_count": 2,
     "metadata": {},
     "output_type": "execute_result"
    }
   ],
   "source": [
    "url = 'https://sso.kongzhong.com/ajaxLogin?j=j&&type=1&service=https://passport.kongzhong.com/&username=123%40qq.com&password=31030e64c5fb0057e7a1&vcode=&toSave=0&_=1633326687756'\n",
    "headers = {\n",
    "    'User-Agent': 'Mozilla/5.0 (Macintosh; Intel Mac OS X 10_15_7) AppleWebKit/537.36 (KHTML, like Gecko) Chrome/94.0.4606.61 Safari/537.36',\n",
    "    'Referer': 'https://passport.kongzhong.com/',\n",
    "}\n",
    "response = requests.get(url, headers=headers).text\n",
    "dc = re.findall(r'\"dc\":\"(.*?)\",.*?', response)[0]\n",
    "dc"
   ]
  },
  {
   "cell_type": "code",
   "execution_count": 3,
   "id": "ee2d930b",
   "metadata": {},
   "outputs": [
    {
     "data": {
      "text/plain": [
       "'31af19a7179c04018f7c'"
      ]
     },
     "execution_count": 3,
     "metadata": {},
     "output_type": "execute_result"
    }
   ],
   "source": [
    "password = \"123456\"\n",
    "node = execjs.get()\n",
    "with open('战火互娱.js', encoding='utf-8') as fin:\n",
    "    js_code = fin.read()\n",
    "\n",
    "ctx = node.compile(js_code)\n",
    "pwd = ctx.call('getPwd', password, dc)\n",
    "pwd"
   ]
  },
  {
   "cell_type": "code",
   "execution_count": null,
   "id": "07948992",
   "metadata": {},
   "outputs": [],
   "source": []
  }
 ],
 "metadata": {
  "kernelspec": {
   "display_name": "Python 3.8.8 64-bit ('venv0': venv)",
   "language": "python",
   "name": "python388jvsc74a57bd0efbf56fc117e418e44edda1cb10ef72e1d236bfeb453c90c79d8abd3fc7dd926"
  },
  "language_info": {
   "codemirror_mode": {
    "name": "ipython",
    "version": 3
   },
   "file_extension": ".py",
   "mimetype": "text/x-python",
   "name": "python",
   "nbconvert_exporter": "python",
   "pygments_lexer": "ipython3",
   "version": "3.8.8"
  }
 },
 "nbformat": 4,
 "nbformat_minor": 5
}
