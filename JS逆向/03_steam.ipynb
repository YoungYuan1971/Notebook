{
 "cells": [
  {
   "cell_type": "markdown",
   "id": "05a27608",
   "metadata": {},
   "source": [
    "STEAM: https://store.steampowered.com/login/?redir=&redir_ssl=1&snr=1_4_4__global-header"
   ]
  },
  {
   "cell_type": "markdown",
   "id": "41bbf972",
   "metadata": {},
   "source": [
    "- 导入包"
   ]
  },
  {
   "cell_type": "code",
   "execution_count": 1,
   "id": "d084e568",
   "metadata": {},
   "outputs": [],
   "source": [
    "import time\n",
    "import execjs\n",
    "import requests"
   ]
  },
  {
   "cell_type": "markdown",
   "id": "65363b43",
   "metadata": {},
   "source": [
    "- 发起请求，取得mod和exp两个参数"
   ]
  },
  {
   "cell_type": "code",
   "execution_count": 2,
   "id": "f0040fe6",
   "metadata": {},
   "outputs": [],
   "source": [
    "headers = {\n",
    "    'User-Agent': 'Mozilla/5.0 (Macintosh; Intel Mac OS X 10_15_7) AppleWebKit/537.36 (KHTML, like Gecko) Chrome/94.0.4606.61 Safari/537.36',\n",
    "}\n",
    "datas = {\n",
    "    'donotcache': str(int(time.time()*1000)),\n",
    "    'username': '123@qq.com'\n",
    "}\n",
    "url = 'https://store.steampowered.com/login/getrsakey/'\n",
    "response = requests.post(url, headers=headers, data=datas).json()\n",
    "mod = response['publickey_mod']\n",
    "exp = response['publickey_exp']"
   ]
  },
  {
   "cell_type": "markdown",
   "id": "51591a53",
   "metadata": {},
   "source": [
    "- JS逆向解析，取得加密后的密码密文"
   ]
  },
  {
   "cell_type": "code",
   "execution_count": 3,
   "id": "64e71aa0",
   "metadata": {},
   "outputs": [
    {
     "name": "stdout",
     "output_type": "stream",
     "text": [
      "Please enter the password:123456\n"
     ]
    },
    {
     "data": {
      "text/plain": [
       "'asChvNNWY28Q/pLIxbq6VV0SnroR+AefQnpLOffoeodpjNL53Pw4xJrLrx/mLgCH2RxW/qdIMPwn/X5KUPGeIHaSnJKCdHqN7s9YjODW7pTDU8Xxp9rMwnHR47WCOlqkaewq5+zI+mJiJUaRnSe706NQ8pMXXj4TbM7vBixX7FJCekroi/Uo79jNsplEw1VCvEj1w9uLRtzseI/FAL9Xvxw6DZrIUlWVc5cgh/eoatdyhXM3A0HWZJ2VGeSmRQGx6uSE17OWY7dWcZ6QcksWLJcvcLb7knIHXuIG1ykpRWA5qv/J5w10UjOBl1vfDcWOMO+za0qviuRtRMak5GjbjA=='"
      ]
     },
     "execution_count": 3,
     "metadata": {},
     "output_type": "execute_result"
    }
   ],
   "source": [
    "password = input('Please enter the password:')\n",
    "node = execjs.get()\n",
    "with open('steam.js', encoding='utf-8') as fin:\n",
    "    js_code = fin.read()\n",
    "\n",
    "ctx = node.compile(js_code)\n",
    "pwd = ctx.call('getPwd', password, mod, exp)\n",
    "pwd"
   ]
  },
  {
   "cell_type": "code",
   "execution_count": null,
   "id": "a59aa975",
   "metadata": {},
   "outputs": [],
   "source": []
  }
 ],
 "metadata": {
  "kernelspec": {
   "display_name": "Python 3.8.8 64-bit ('venv0': venv)",
   "language": "python",
   "name": "python388jvsc74a57bd0efbf56fc117e418e44edda1cb10ef72e1d236bfeb453c90c79d8abd3fc7dd926"
  },
  "language_info": {
   "codemirror_mode": {
    "name": "ipython",
    "version": 3
   },
   "file_extension": ".py",
   "mimetype": "text/x-python",
   "name": "python",
   "nbconvert_exporter": "python",
   "pygments_lexer": "ipython3",
   "version": "3.8.8"
  }
 },
 "nbformat": 4,
 "nbformat_minor": 5
}
