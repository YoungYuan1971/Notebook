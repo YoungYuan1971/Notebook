{
 "cells": [
  {
   "cell_type": "markdown",
   "id": "8f82998e",
   "metadata": {},
   "source": [
    "有道翻译：https://fanyi.youdao.com/\n",
    "- 根据两次抓包，i,salt,sign,lts不同，其他一样\n",
    "  - i是传入的文字\n",
    "  - salt和lts是与时间戳相关的，比较简单\n",
    "  - 重点是sign，需要JS逆向\n",
    "  \n",
    "```\n",
    "i: dog\n",
    "from: AUTO\n",
    "to: AUTO\n",
    "smartresult: dict\n",
    "client: fanyideskweb\n",
    "salt: 16331395927737\n",
    "sign: 7bd6ee083b1c8e5003fb439557ca0ccb\n",
    "lts: 1633139592773\n",
    "bv: d9afd7419c0c736c1d10ae4179955b06\n",
    "doctype: json\n",
    "version: 2.1\n",
    "keyfrom: fanyi.web\n",
    "action: FY_BY_REALTlME\n",
    "-------------------------------------------------\n",
    "i: cat\n",
    "from: AUTO\n",
    "to: AUTO\n",
    "smartresult: dict\n",
    "client: fanyideskweb\n",
    "salt: 16331397730471\n",
    "sign: 46ad2461b1ec8b6a9176227de7a48b08\n",
    "lts: 1633139773047\n",
    "bv: d9afd7419c0c736c1d10ae4179955b06\n",
    "doctype: json\n",
    "version: 2.1\n",
    "keyfrom: fanyi.web\n",
    "action: FY_BY_REALTlME\n",
    "```\n"
   ]
  },
  {
   "cell_type": "markdown",
   "id": "b44a1424",
   "metadata": {},
   "source": [
    "- 导入包\n",
    "  - execjs是执行JS代码的包\n",
    "  - 本地已搭建node.js环境"
   ]
  },
  {
   "cell_type": "code",
   "execution_count": 1,
   "id": "a4ad9d39",
   "metadata": {},
   "outputs": [],
   "source": [
    "import time\n",
    "import random\n",
    "import requests\n",
    "import execjs"
   ]
  },
  {
   "cell_type": "markdown",
   "id": "46f90e0d",
   "metadata": {},
   "source": [
    "- 解析JS代码，并用Python执行，取得结果"
   ]
  },
  {
   "cell_type": "code",
   "execution_count": 2,
   "id": "71f976c0",
   "metadata": {},
   "outputs": [
    {
     "name": "stdout",
     "output_type": "stream",
     "text": [
      "Please enter the word:good\n",
      "sign:aec474fadf516195817d36992a3ca67f\n"
     ]
    }
   ],
   "source": [
    "word = input('Please enter the word:')\n",
    "\n",
    "node = execjs.get()\n",
    "with open('有道翻译.js', encoding='utf-8') as fin:\n",
    "    js_code = fin.read()\n",
    "\n",
    "stamp = str(int(time.time()*1000))+str(random.randint(0, 9))\n",
    "ctx = node.compile(js_code)\n",
    "sign = ctx.call(\"getSign\", word, stamp)\n",
    "print(f'sign:{sign}')"
   ]
  },
  {
   "cell_type": "markdown",
   "id": "0260bf15",
   "metadata": {},
   "source": [
    "- 构建FormData，请求网页"
   ]
  },
  {
   "cell_type": "code",
   "execution_count": 3,
   "id": "c4580793",
   "metadata": {},
   "outputs": [
    {
     "name": "stdout",
     "output_type": "stream",
     "text": [
      "response:{'translateResult': [[{'tgt': '好', 'src': 'good'}]], 'errorCode': 0, 'type': 'en2zh-CHS', 'smartResult': {'entries': ['', 'adj. 好的；优良的；愉快的；虔诚的\\r\\n', 'n. 好处；善行；慷慨的行为\\r\\n', 'adv. 好\\r\\n'], 'type': 1}}\n"
     ]
    }
   ],
   "source": [
    "url = 'https://fanyi.youdao.com/translate_o'\n",
    "headers = {\n",
    "    'Cookie': 'OUTFOX_SEARCH_USER_ID=2113154897@10.169.0.83; OUTFOX_SEARCH_USER_ID_NCOO=2005401017.1579988; \\\n",
    "                JSESSIONID=aaaSXooqnsoTR47JgT_Wx; ___rl__test__cookies=1633143964195',\n",
    "    'Referer': 'https://fanyi.youdao.com/',\n",
    "    'User-Agent': 'Mozilla/5.0 (Macintosh; Intel Mac OS X 10_15_7) \\\n",
    "                AppleWebKit/537.36 (KHTML, like Gecko) Chrome/94.0.4606.61 Safari/537.36',\n",
    "    'X-Requested-With': 'XMLHttpRequest',\n",
    "}\n",
    "datas = {\n",
    "    'i': word,\n",
    "    'from': 'AUTO',\n",
    "    'to': 'AUTO',\n",
    "    'smartresult': 'dict',\n",
    "    'client': 'fanyideskweb',\n",
    "    'salt': stamp,\n",
    "    'sign': sign,\n",
    "    'lts': str(int(time.time()*1000)),\n",
    "    'bv': 'd9afd7419c0c736c1d10ae4179955b06',\n",
    "    'doctype': 'json',\n",
    "    'version': '2.1',\n",
    "    'keyfrom': 'fanyi.web',\n",
    "    'action': 'FY_BY_REALTlME',\n",
    "}\n",
    "\n",
    "response = requests.post(url, headers=headers, data=datas)\n",
    "print(f'response:{response.json()}')"
   ]
  },
  {
   "cell_type": "code",
   "execution_count": null,
   "id": "b06b00b3",
   "metadata": {},
   "outputs": [],
   "source": []
  }
 ],
 "metadata": {
  "kernelspec": {
   "display_name": "Python 3.8.8 64-bit ('venv0': venv)",
   "language": "python",
   "name": "python388jvsc74a57bd0efbf56fc117e418e44edda1cb10ef72e1d236bfeb453c90c79d8abd3fc7dd926"
  },
  "language_info": {
   "codemirror_mode": {
    "name": "ipython",
    "version": 3
   },
   "file_extension": ".py",
   "mimetype": "text/x-python",
   "name": "python",
   "nbconvert_exporter": "python",
   "pygments_lexer": "ipython3",
   "version": "3.8.8"
  }
 },
 "nbformat": 4,
 "nbformat_minor": 5
}
