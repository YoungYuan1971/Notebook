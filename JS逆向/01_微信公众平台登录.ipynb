{
 "cells": [
  {
   "cell_type": "markdown",
   "id": "4d031049",
   "metadata": {},
   "source": [
    "微信公众平台：https://mp.weixin.qq.com/"
   ]
  },
  {
   "cell_type": "markdown",
   "id": "d980e997",
   "metadata": {},
   "source": [
    "- JS调试工具\n",
    "  - 发条JS调试工具\n",
    "- 实现使用Python执行JS代码\n",
    "  - node.js开发环境\n",
    "  - pip install Pyexecjs\n",
    "- JS算法改写初探\n",
    "  - 打断点\n",
    "  - 代码调试时,如果发现了相关变量的缺失，一般给其定义成空字典即可"
   ]
  },
  {
   "cell_type": "code",
   "execution_count": 1,
   "id": "788f83ff",
   "metadata": {},
   "outputs": [],
   "source": [
    "import execjs"
   ]
  },
  {
   "cell_type": "code",
   "execution_count": 4,
   "id": "dec21246",
   "metadata": {},
   "outputs": [
    {
     "name": "stdout",
     "output_type": "stream",
     "text": [
      "Please enter the password:123456\n"
     ]
    },
    {
     "data": {
      "text/plain": [
       "'e10adc3949ba59abbe56e057f20f883e'"
      ]
     },
     "execution_count": 4,
     "metadata": {},
     "output_type": "execute_result"
    }
   ],
   "source": [
    "password = input('Please enter the password:')\n",
    "node = execjs.get()\n",
    "with open('微信公众平台.js', encoding='utf-8') as fin:\n",
    "    js_code = fin.read()\n",
    "\n",
    "ctx = node.compile(js_code)\n",
    "pwd = ctx.eval(f\"get_pwd('{password}')\")\n",
    "pwd"
   ]
  },
  {
   "cell_type": "code",
   "execution_count": null,
   "id": "03d751ab",
   "metadata": {},
   "outputs": [],
   "source": []
  }
 ],
 "metadata": {
  "kernelspec": {
   "display_name": "Python 3.8.8 64-bit ('venv0': venv)",
   "language": "python",
   "name": "python388jvsc74a57bd0efbf56fc117e418e44edda1cb10ef72e1d236bfeb453c90c79d8abd3fc7dd926"
  },
  "language_info": {
   "codemirror_mode": {
    "name": "ipython",
    "version": 3
   },
   "file_extension": ".py",
   "mimetype": "text/x-python",
   "name": "python",
   "nbconvert_exporter": "python",
   "pygments_lexer": "ipython3",
   "version": "3.8.8"
  }
 },
 "nbformat": 4,
 "nbformat_minor": 5
}
