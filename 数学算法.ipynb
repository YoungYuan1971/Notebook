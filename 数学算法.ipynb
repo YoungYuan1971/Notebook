{
 "cells": [
  {
   "cell_type": "markdown",
   "id": "623bc519",
   "metadata": {},
   "source": [
    "### 求最大公约数\n",
    "- 第一种解法：辗转相除法（欧几里德算法）"
   ]
  },
  {
   "cell_type": "code",
   "execution_count": 1,
   "id": "89d26f4b",
   "metadata": {
    "scrolled": true
   },
   "outputs": [
    {
     "data": {
      "text/plain": [
       "7"
      ]
     },
     "execution_count": 1,
     "metadata": {},
     "output_type": "execute_result"
    }
   ],
   "source": [
    "def func1(a, b):\n",
    "    \n",
    "    m = max(a, b)\n",
    "    n = min(a, b)\n",
    "\n",
    "    while n:\n",
    "        m, n = n, m % n\n",
    "\n",
    "    return m\n",
    "\n",
    "\n",
    "func1(98, 63)"
   ]
  },
  {
   "cell_type": "markdown",
   "id": "d5a62d42",
   "metadata": {},
   "source": [
    "- 第二种解法：更相减损法"
   ]
  },
  {
   "cell_type": "code",
   "execution_count": 14,
   "id": "028a4cb1",
   "metadata": {},
   "outputs": [
    {
     "data": {
      "text/plain": [
       "7"
      ]
     },
     "execution_count": 14,
     "metadata": {},
     "output_type": "execute_result"
    }
   ],
   "source": [
    "def func2(a, b):\n",
    "\n",
    "    m = max(a, b)\n",
    "    n = min(a, b)\n",
    "\n",
    "    while n:\n",
    "        m, n = n, m-n if m > n else n-m\n",
    "\n",
    "    return m\n",
    "\n",
    "\n",
    "func2(98, 63)"
   ]
  },
  {
   "cell_type": "markdown",
   "id": "55fc3e96",
   "metadata": {},
   "source": [
    "### 求最小公倍数"
   ]
  },
  {
   "cell_type": "code",
   "execution_count": 3,
   "id": "edd40bb9",
   "metadata": {},
   "outputs": [
    {
     "data": {
      "text/plain": [
       "882"
      ]
     },
     "execution_count": 3,
     "metadata": {},
     "output_type": "execute_result"
    }
   ],
   "source": [
    "def func3(a, b):\n",
    "    \n",
    "    m = max(a, b)\n",
    "    n = min(a, b)\n",
    "    i = 1\n",
    "    while True:\n",
    "        if m*i % n == 0:\n",
    "            return m*i\n",
    "        i += 1\n",
    "\n",
    "\n",
    "func3(98, 63)"
   ]
  },
  {
   "cell_type": "markdown",
   "id": "4c6cdbf3",
   "metadata": {},
   "source": [
    "### 斐波那契数列"
   ]
  },
  {
   "cell_type": "code",
   "execution_count": 5,
   "id": "ca3ac800",
   "metadata": {},
   "outputs": [
    {
     "data": {
      "text/plain": [
       "[1, 1, 2, 3, 5, 8, 13, 21, 34, 55]"
      ]
     },
     "execution_count": 5,
     "metadata": {},
     "output_type": "execute_result"
    }
   ],
   "source": [
    "def func4(n):\n",
    "    \n",
    "    a, b = 0, 1\n",
    "    for _ in range(n):\n",
    "        a, b = b, a+b\n",
    "        yield a\n",
    "\n",
    "\n",
    "list(func4(10))"
   ]
  },
  {
   "cell_type": "markdown",
   "id": "bec18d01",
   "metadata": {},
   "source": [
    "### 计算列表元素乘积结尾0的个数\n",
    "- 不能用所有数字相乘，元素多会造成内存崩溃"
   ]
  },
  {
   "cell_type": "code",
   "execution_count": 1,
   "id": "67a88c1d",
   "metadata": {},
   "outputs": [
    {
     "data": {
      "text/plain": [
       "4"
      ]
     },
     "execution_count": 1,
     "metadata": {},
     "output_type": "execute_result"
    }
   ],
   "source": [
    "def func5(L):\n",
    "    \n",
    "    n_two = 0\n",
    "    n_five = 0\n",
    "    for i in L:\n",
    "        while i % 2 == 0:\n",
    "            n_two += 1\n",
    "            i = i // 2\n",
    "        while i % 5 == 0:\n",
    "            n_five += 1\n",
    "            i = i // 5\n",
    "            \n",
    "    result = min(n_two, n_five)\n",
    "\n",
    "    return result\n",
    "\n",
    "func5([4, 2, 25, 7777777, 100, 3, 77777777, 77777777, 77777777, 77777777])"
   ]
  }
 ],
 "metadata": {
  "kernelspec": {
   "display_name": "Python 3 (ipykernel)",
   "language": "python",
   "name": "python3"
  },
  "language_info": {
   "codemirror_mode": {
    "name": "ipython",
    "version": 3
   },
   "file_extension": ".py",
   "mimetype": "text/x-python",
   "name": "python",
   "nbconvert_exporter": "python",
   "pygments_lexer": "ipython3",
   "version": "3.9.7"
  }
 },
 "nbformat": 4,
 "nbformat_minor": 5
}
