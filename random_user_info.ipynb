{
 "cells": [
  {
   "cell_type": "code",
   "execution_count": 1,
   "id": "8c170407",
   "metadata": {},
   "outputs": [],
   "source": [
    "import requests\n",
    "import pandas as pd"
   ]
  },
  {
   "cell_type": "code",
   "execution_count": 3,
   "id": "872c2346",
   "metadata": {},
   "outputs": [
    {
     "data": {
      "text/plain": [
       "{'results': [{'gender': 'female',\n",
       "   'name': {'title': 'Ms', 'first': 'Madison', 'last': 'Harcourt'},\n",
       "   'location': {'street': {'number': 6954, 'name': 'Vimy St'},\n",
       "    'city': 'Souris',\n",
       "    'state': 'Prince Edward Island',\n",
       "    'country': 'Canada',\n",
       "    'postcode': 'A6N 0N5',\n",
       "    'coordinates': {'latitude': '-66.9528', 'longitude': '21.4992'},\n",
       "    'timezone': {'offset': '+8:00',\n",
       "     'description': 'Beijing, Perth, Singapore, Hong Kong'}},\n",
       "   'email': 'madison.harcourt@example.com',\n",
       "   'login': {'uuid': 'b6bdbecb-bec5-4a9d-aa97-f11d17b4f00d',\n",
       "    'username': 'heavyzebra208',\n",
       "    'password': 'mopar',\n",
       "    'salt': '4XuNLYPP',\n",
       "    'md5': '307c00fa1b17490170ddba128f856800',\n",
       "    'sha1': '885d1685999346d47e94d7abacbd355129d1877a',\n",
       "    'sha256': '0c93aea7d091dd74cbe7631a4c33a77e147225d7c4db543cc33be43bb5a5f982'},\n",
       "   'dob': {'date': '1950-08-12T21:25:33.275Z', 'age': 71},\n",
       "   'registered': {'date': '2016-07-16T11:37:25.950Z', 'age': 5},\n",
       "   'phone': '472-900-8490',\n",
       "   'cell': '789-937-1246',\n",
       "   'id': {'name': '', 'value': None},\n",
       "   'picture': {'large': 'https://randomuser.me/api/portraits/women/8.jpg',\n",
       "    'medium': 'https://randomuser.me/api/portraits/med/women/8.jpg',\n",
       "    'thumbnail': 'https://randomuser.me/api/portraits/thumb/women/8.jpg'},\n",
       "   'nat': 'CA'},\n",
       "  {'gender': 'male',\n",
       "   'name': {'title': 'Mr', 'first': 'Andres', 'last': 'Dominguez'},\n",
       "   'location': {'street': {'number': 8117, 'name': 'Avenida de La Albufera'},\n",
       "    'city': 'San Sebastián de Los Reyes',\n",
       "    'state': 'Extremadura',\n",
       "    'country': 'Spain',\n",
       "    'postcode': 36848,\n",
       "    'coordinates': {'latitude': '-5.7593', 'longitude': '170.5691'},\n",
       "    'timezone': {'offset': '+3:30', 'description': 'Tehran'}},\n",
       "   'email': 'andres.dominguez@example.com',\n",
       "   'login': {'uuid': '1bdfe6b2-37a0-4a80-8861-239c2c94dfb7',\n",
       "    'username': 'orangeleopard831',\n",
       "    'password': 'spitfire',\n",
       "    'salt': '20RBC05H',\n",
       "    'md5': '115dbf183777fef898679388cf2b0ee8',\n",
       "    'sha1': 'e5f2fa68de6039619a4d2f6d5bc30089ef198a2c',\n",
       "    'sha256': '8cbdb2027fb4a40a7ed5a828bd31271915d4252ecf455743086535d4ff1acb0c'},\n",
       "   'dob': {'date': '1955-02-07T02:35:55.391Z', 'age': 66},\n",
       "   'registered': {'date': '2004-05-25T21:18:31.378Z', 'age': 17},\n",
       "   'phone': '999-084-252',\n",
       "   'cell': '618-183-910',\n",
       "   'id': {'name': 'DNI', 'value': '00434515-D'},\n",
       "   'picture': {'large': 'https://randomuser.me/api/portraits/men/42.jpg',\n",
       "    'medium': 'https://randomuser.me/api/portraits/med/men/42.jpg',\n",
       "    'thumbnail': 'https://randomuser.me/api/portraits/thumb/men/42.jpg'},\n",
       "   'nat': 'ES'}],\n",
       " 'info': {'seed': 'bfbc17a5378253ba',\n",
       "  'results': 2,\n",
       "  'page': 1,\n",
       "  'version': '1.3'}}"
      ]
     },
     "execution_count": 3,
     "metadata": {},
     "output_type": "execute_result"
    }
   ],
   "source": [
    "page = 2\n",
    "url = f'https://randomuser.me/api/?results={page}'\n",
    "datas = requests.get(url).json()\n",
    "datas"
   ]
  }
 ],
 "metadata": {
  "kernelspec": {
   "display_name": "Python 3.8.8 64-bit ('venv0': venv)",
   "language": "python",
   "name": "python388jvsc74a57bd0efbf56fc117e418e44edda1cb10ef72e1d236bfeb453c90c79d8abd3fc7dd926"
  },
  "language_info": {
   "codemirror_mode": {
    "name": "ipython",
    "version": 3
   },
   "file_extension": ".py",
   "mimetype": "text/x-python",
   "name": "python",
   "nbconvert_exporter": "python",
   "pygments_lexer": "ipython3",
   "version": "3.8.8"
  }
 },
 "nbformat": 4,
 "nbformat_minor": 5
}
