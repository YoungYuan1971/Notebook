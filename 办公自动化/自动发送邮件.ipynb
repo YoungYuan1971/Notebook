{
 "cells": [
  {
   "cell_type": "markdown",
   "id": "5fb5787b",
   "metadata": {},
   "source": [
    "### 发送包含文本和附件的邮件(以qq邮箱示例)"
   ]
  },
  {
   "cell_type": "code",
   "execution_count": 1,
   "id": "10612ad7",
   "metadata": {},
   "outputs": [],
   "source": [
    "import smtplib\n",
    "from email.mime.text import MIMEText\n",
    "from email.mime.multipart import MIMEMultipart\n",
    "import email_info"
   ]
  },
  {
   "cell_type": "markdown",
   "id": "b1486e22",
   "metadata": {},
   "source": [
    "### 发送邮件的相关信息，根据你实际情况填写"
   ]
  },
  {
   "cell_type": "code",
   "execution_count": 2,
   "id": "7baa1b0c",
   "metadata": {},
   "outputs": [],
   "source": [
    "smtp_host = 'smtp.qq.com'\n",
    "ssl_port = '465'\n",
    "username = email_info.info[\"user_name\"]\n",
    "password = email_info.info[\"password\"]  # 授权码，并非登录密码"
   ]
  },
  {
   "cell_type": "markdown",
   "id": "94cc01f1",
   "metadata": {},
   "source": [
    "### 发送者邮箱和接收者邮箱，发送者邮箱一般与username一样"
   ]
  },
  {
   "cell_type": "code",
   "execution_count": 3,
   "id": "bcdc5f61",
   "metadata": {},
   "outputs": [
    {
     "name": "stdout",
     "output_type": "stream",
     "text": [
      "Please enter the email address to send： 541518439@qq.com\n"
     ]
    }
   ],
   "source": [
    "sender = '541518439@qq.com'\n",
    "sender_name = 'YoungYuan'\n",
    "to_addr = input('Please enter the email address to send： ')  # 多个用户可以用列表"
   ]
  },
  {
   "cell_type": "markdown",
   "id": "2af76b29",
   "metadata": {},
   "source": [
    "### 邮件标题和内容"
   ]
  },
  {
   "cell_type": "code",
   "execution_count": 4,
   "id": "e1d39d6a",
   "metadata": {},
   "outputs": [],
   "source": [
    "encoding = 'utf-8'  # 编码\n",
    "subject = '这是一封来自Python的邮件'  # 邮件主题\n",
    "\n",
    "body = f'{sender_name}通过Python自动给你发送了一份邮件，请查收！'\n",
    "txt_part = MIMEText(body, 'plain', encoding)  # 邮件主体内容\n",
    "\n",
    "with open('邮件附件.docx', 'rb') as f:\n",
    "    content = f.read()\n",
    "att_part = MIMEText(content, 'base64', encoding)  # 邮件附件内容\n",
    "att_part[\"Content-Type\"] = 'application/octet-stream'  # 对邮件附件的声明\n",
    "att_part['Content-Disposition'] = 'attachment; filename=\"邮件附件.docx\"'  # 对邮件附件的声明"
   ]
  },
  {
   "cell_type": "markdown",
   "id": "16109abc",
   "metadata": {},
   "source": [
    "### 初始化邮件"
   ]
  },
  {
   "cell_type": "code",
   "execution_count": 5,
   "id": "ea80628c",
   "metadata": {},
   "outputs": [],
   "source": [
    "mail = MIMEMultipart()  # 多个MIME对象的集合；MIMEAudio音频；MIMEImage图像；MIMEText文本\n",
    "mail['Subject'] = subject  # 设置邮件主题\n",
    "mail['From'] = sender  # 设置显示发件人邮箱\n",
    "mail['To'] = to_addr  # 设置显示收件人邮箱\n",
    "mail.attach(txt_part)  # 加载文字部分\n",
    "mail.attach(att_part)  # 加载附件部分"
   ]
  },
  {
   "cell_type": "markdown",
   "id": "95acc5d3",
   "metadata": {},
   "source": [
    "### 纯粹的ssl加密方式，通信过程加密，邮件数据安全"
   ]
  },
  {
   "cell_type": "code",
   "execution_count": 6,
   "id": "e984670e",
   "metadata": {},
   "outputs": [
    {
     "data": {
      "text/plain": [
       "(235, b'Authentication successful')"
      ]
     },
     "execution_count": 6,
     "metadata": {},
     "output_type": "execute_result"
    }
   ],
   "source": [
    "smtp = smtplib.SMTP_SSL(smtp_host, ssl_port)  # 连接邮箱\n",
    "smtp.login(username, password)  # 登录邮箱"
   ]
  },
  {
   "cell_type": "markdown",
   "id": "f6bdc848",
   "metadata": {},
   "source": [
    "### 发送邮件"
   ]
  },
  {
   "cell_type": "code",
   "execution_count": 7,
   "id": "2f0d6a24",
   "metadata": {},
   "outputs": [
    {
     "data": {
      "text/plain": [
       "(221, b'Bye.')"
      ]
     },
     "execution_count": 7,
     "metadata": {},
     "output_type": "execute_result"
    }
   ],
   "source": [
    "smtp.sendmail(sender, to_addr, mail.as_string())  # 发送邮件\n",
    "smtp.quit()  # 退出邮箱"
   ]
  }
 ],
 "metadata": {
  "kernelspec": {
   "display_name": "Python3.9 venv0",
   "language": "python",
   "name": "venv0"
  },
  "language_info": {
   "codemirror_mode": {
    "name": "ipython",
    "version": 3
   },
   "file_extension": ".py",
   "mimetype": "text/x-python",
   "name": "python",
   "nbconvert_exporter": "python",
   "pygments_lexer": "ipython3",
   "version": "3.9.12"
  },
  "vscode": {
   "interpreter": {
    "hash": "40d3a090f54c6569ab1632332b64b2c03c39dcf918b08424e98f38b5ae0af88f"
   }
  }
 },
 "nbformat": 4,
 "nbformat_minor": 5
}
