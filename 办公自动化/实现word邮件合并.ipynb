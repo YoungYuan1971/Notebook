{
 "cells": [
  {
   "cell_type": "markdown",
   "id": "ed72c56f",
   "metadata": {},
   "source": [
    "- 前期准备一个word模板和一个excel信息表\n",
    "- word模板中插入相关域，以便后续按照域名称插入数据\n",
    "- 导入包"
   ]
  },
  {
   "cell_type": "code",
   "execution_count": 2,
   "id": "187cfd61",
   "metadata": {},
   "outputs": [],
   "source": [
    "from mailmerge import MailMerge\n",
    "import pandas as pd\n",
    "from tqdm import tqdm"
   ]
  },
  {
   "cell_type": "markdown",
   "id": "db73d556",
   "metadata": {},
   "source": [
    "- 导入excel数据，取前N行"
   ]
  },
  {
   "cell_type": "code",
   "execution_count": 3,
   "id": "084a8311",
   "metadata": {},
   "outputs": [
    {
     "data": {
      "text/html": [
       "<div>\n",
       "<style scoped>\n",
       "    .dataframe tbody tr th:only-of-type {\n",
       "        vertical-align: middle;\n",
       "    }\n",
       "\n",
       "    .dataframe tbody tr th {\n",
       "        vertical-align: top;\n",
       "    }\n",
       "\n",
       "    .dataframe thead th {\n",
       "        text-align: right;\n",
       "    }\n",
       "</style>\n",
       "<table border=\"1\" class=\"dataframe\">\n",
       "  <thead>\n",
       "    <tr style=\"text-align: right;\">\n",
       "      <th></th>\n",
       "      <th>Name</th>\n",
       "      <th>Telephone</th>\n",
       "      <th>Birth</th>\n",
       "      <th>Company</th>\n",
       "      <th>Position</th>\n",
       "      <th>Address</th>\n",
       "      <th>Email</th>\n",
       "    </tr>\n",
       "  </thead>\n",
       "  <tbody>\n",
       "    <tr>\n",
       "      <th>0</th>\n",
       "      <td>孙玉梅</td>\n",
       "      <td>15806810947</td>\n",
       "      <td>1975-11-07</td>\n",
       "      <td>合联电子网络有限公司</td>\n",
       "      <td>销售管理</td>\n",
       "      <td>河北省大冶县兴山刘路X座 876523</td>\n",
       "      <td>na59@gmail.com</td>\n",
       "    </tr>\n",
       "    <tr>\n",
       "      <th>1</th>\n",
       "      <td>吴秀荣</td>\n",
       "      <td>18826704929</td>\n",
       "      <td>1970-08-01</td>\n",
       "      <td>浦华众城传媒有限公司</td>\n",
       "      <td>其他语种翻译</td>\n",
       "      <td>山西省银川县花溪丁路Y座 681509</td>\n",
       "      <td>xiexiuying@wen.cn</td>\n",
       "    </tr>\n",
       "    <tr>\n",
       "      <th>2</th>\n",
       "      <td>陈颖</td>\n",
       "      <td>13522746545</td>\n",
       "      <td>2020-07-18</td>\n",
       "      <td>华泰通安传媒有限公司</td>\n",
       "      <td>集成电路IC设计/应用工程师</td>\n",
       "      <td>广东省六安市海港宁德路g座 315868</td>\n",
       "      <td>yan73@gmail.com</td>\n",
       "    </tr>\n",
       "    <tr>\n",
       "      <th>3</th>\n",
       "      <td>张彬</td>\n",
       "      <td>18953125826</td>\n",
       "      <td>1977-06-12</td>\n",
       "      <td>合联电子信息有限公司</td>\n",
       "      <td>卖场经理/店长</td>\n",
       "      <td>贵州省潜江县沈北新纪路J座 405142</td>\n",
       "      <td>xiuying69@dd.cn</td>\n",
       "    </tr>\n",
       "    <tr>\n",
       "      <th>4</th>\n",
       "      <td>赵秀荣</td>\n",
       "      <td>15841190041</td>\n",
       "      <td>1993-06-20</td>\n",
       "      <td>诺依曼软件信息有限公司</td>\n",
       "      <td>嵌入式硬件开发(主板机…)</td>\n",
       "      <td>黑龙江省兴城市江北淮安街t座 700747</td>\n",
       "      <td>sqin@guiyingfang.cn</td>\n",
       "    </tr>\n",
       "    <tr>\n",
       "      <th>5</th>\n",
       "      <td>何阳</td>\n",
       "      <td>13443042445</td>\n",
       "      <td>1981-11-14</td>\n",
       "      <td>华泰通安信息有限公司</td>\n",
       "      <td>人力资源</td>\n",
       "      <td>重庆市海口市金平王路Q座 109478</td>\n",
       "      <td>jun71@gmail.com</td>\n",
       "    </tr>\n",
       "    <tr>\n",
       "      <th>6</th>\n",
       "      <td>熊小红</td>\n",
       "      <td>15034156333</td>\n",
       "      <td>2007-09-03</td>\n",
       "      <td>佳禾传媒有限公司</td>\n",
       "      <td>销售行政及商务</td>\n",
       "      <td>内蒙古自治区兰州市山亭萧街C座 884475</td>\n",
       "      <td>sunmin@24.net</td>\n",
       "    </tr>\n",
       "    <tr>\n",
       "      <th>7</th>\n",
       "      <td>陈宇</td>\n",
       "      <td>18859052780</td>\n",
       "      <td>2006-12-20</td>\n",
       "      <td>国讯网络有限公司</td>\n",
       "      <td>网络推广专员</td>\n",
       "      <td>湖南省佛山县清浦杨街z座 207565</td>\n",
       "      <td>sjia@zhang.cn</td>\n",
       "    </tr>\n",
       "    <tr>\n",
       "      <th>8</th>\n",
       "      <td>关宁</td>\n",
       "      <td>13810751435</td>\n",
       "      <td>1981-05-05</td>\n",
       "      <td>济南亿次元传媒有限公司</td>\n",
       "      <td>生物工程/生物制药</td>\n",
       "      <td>山西省潮州县吉区韩路G座 735320</td>\n",
       "      <td>ping93@pingyi.cn</td>\n",
       "    </tr>\n",
       "    <tr>\n",
       "      <th>9</th>\n",
       "      <td>彭云</td>\n",
       "      <td>15862165724</td>\n",
       "      <td>1971-08-13</td>\n",
       "      <td>快讯信息有限公司</td>\n",
       "      <td>网站编辑</td>\n",
       "      <td>重庆市石家庄县龙潭王路J座 997959</td>\n",
       "      <td>jwen@gmail.com</td>\n",
       "    </tr>\n",
       "  </tbody>\n",
       "</table>\n",
       "</div>"
      ],
      "text/plain": [
       "  Name    Telephone       Birth      Company        Position  \\\n",
       "0  孙玉梅  15806810947  1975-11-07   合联电子网络有限公司            销售管理   \n",
       "1  吴秀荣  18826704929  1970-08-01   浦华众城传媒有限公司          其他语种翻译   \n",
       "2   陈颖  13522746545  2020-07-18   华泰通安传媒有限公司  集成电路IC设计/应用工程师   \n",
       "3   张彬  18953125826  1977-06-12   合联电子信息有限公司         卖场经理/店长   \n",
       "4  赵秀荣  15841190041  1993-06-20  诺依曼软件信息有限公司   嵌入式硬件开发(主板机…)   \n",
       "5   何阳  13443042445  1981-11-14   华泰通安信息有限公司            人力资源   \n",
       "6  熊小红  15034156333  2007-09-03     佳禾传媒有限公司         销售行政及商务   \n",
       "7   陈宇  18859052780  2006-12-20     国讯网络有限公司          网络推广专员   \n",
       "8   关宁  13810751435  1981-05-05  济南亿次元传媒有限公司       生物工程/生物制药   \n",
       "9   彭云  15862165724  1971-08-13     快讯信息有限公司            网站编辑   \n",
       "\n",
       "                  Address                Email  \n",
       "0     河北省大冶县兴山刘路X座 876523       na59@gmail.com  \n",
       "1     山西省银川县花溪丁路Y座 681509    xiexiuying@wen.cn  \n",
       "2    广东省六安市海港宁德路g座 315868      yan73@gmail.com  \n",
       "3    贵州省潜江县沈北新纪路J座 405142      xiuying69@dd.cn  \n",
       "4   黑龙江省兴城市江北淮安街t座 700747  sqin@guiyingfang.cn  \n",
       "5     重庆市海口市金平王路Q座 109478      jun71@gmail.com  \n",
       "6  内蒙古自治区兰州市山亭萧街C座 884475        sunmin@24.net  \n",
       "7     湖南省佛山县清浦杨街z座 207565        sjia@zhang.cn  \n",
       "8     山西省潮州县吉区韩路G座 735320     ping93@pingyi.cn  \n",
       "9    重庆市石家庄县龙潭王路J座 997959       jwen@gmail.com  "
      ]
     },
     "execution_count": 3,
     "metadata": {},
     "output_type": "execute_result"
    }
   ],
   "source": [
    "data = pd.read_excel('邮件合并/Info.xlsx') \n",
    "data[:10]"
   ]
  },
  {
   "cell_type": "markdown",
   "id": "888abe25",
   "metadata": {},
   "source": [
    "- 获取行数 "
   ]
  },
  {
   "cell_type": "code",
   "execution_count": 4,
   "id": "1881ce98",
   "metadata": {},
   "outputs": [
    {
     "data": {
      "text/plain": [
       "10"
      ]
     },
     "execution_count": 4,
     "metadata": {},
     "output_type": "execute_result"
    }
   ],
   "source": [
    "rows = data.shape[0]\n",
    "rows"
   ]
  },
  {
   "cell_type": "markdown",
   "id": "cc1007ba",
   "metadata": {},
   "source": [
    "- 遍历N行，取得所需数据\n",
    "- 读取word模板\n",
    "- 根据word模板中的域名称，分别赋值，必须是字符串格式\n",
    "- 按Name生成各文档"
   ]
  },
  {
   "cell_type": "code",
   "execution_count": 4,
   "id": "75f6a947",
   "metadata": {},
   "outputs": [
    {
     "name": "stderr",
     "output_type": "stream",
     "text": [
      "100%|█████████████████████████████████████████████████████████| 10/10 [00:00<00:00, 165.14it/s]"
     ]
    },
    {
     "name": "stdout",
     "output_type": "stream",
     "text": [
      "孙玉梅 销售管理 合联电子网络有限公司 河北省大冶县兴山刘路X座 876523 na59@gmail.com 15806810947\n",
      "吴秀荣 其他语种翻译 浦华众城传媒有限公司 山西省银川县花溪丁路Y座 681509 xiexiuying@wen.cn 18826704929\n",
      "陈颖 集成电路IC设计/应用工程师 华泰通安传媒有限公司 广东省六安市海港宁德路g座 315868 yan73@gmail.com 13522746545\n",
      "张彬 卖场经理/店长 合联电子信息有限公司 贵州省潜江县沈北新纪路J座 405142 xiuying69@dd.cn 18953125826\n",
      "赵秀荣 嵌入式硬件开发(主板机…) 诺依曼软件信息有限公司 黑龙江省兴城市江北淮安街t座 700747 sqin@guiyingfang.cn 15841190041\n",
      "何阳 人力资源 华泰通安信息有限公司 重庆市海口市金平王路Q座 109478 jun71@gmail.com 13443042445\n",
      "熊小红 销售行政及商务 佳禾传媒有限公司 内蒙古自治区兰州市山亭萧街C座 884475 sunmin@24.net 15034156333\n",
      "陈宇 网络推广专员 国讯网络有限公司 湖南省佛山县清浦杨街z座 207565 sjia@zhang.cn 18859052780\n",
      "关宁 生物工程/生物制药 济南亿次元传媒有限公司 山西省潮州县吉区韩路G座 735320 ping93@pingyi.cn 13810751435\n",
      "彭云 网站编辑 快讯信息有限公司 重庆市石家庄县龙潭王路J座 997959 jwen@gmail.com 15862165724\n"
     ]
    },
    {
     "name": "stderr",
     "output_type": "stream",
     "text": [
      "\n"
     ]
    }
   ],
   "source": [
    "for i in tqdm(range(rows)):\n",
    "    name = data[\"Name\"][i]\n",
    "    position = data[\"Position\"][i]\n",
    "    company = data['Company'][i]\n",
    "    address = data['Address'][i]\n",
    "    email = data['Email'][i]\n",
    "    mobile = str(data['Telephone'][i])\n",
    "    print(name, position, company, address, email, mobile)\n",
    "\n",
    "    template = '邮件合并/Template.docx'\n",
    "    document = MailMerge(template)\n",
    "    document.merge(\n",
    "        Name=name,\n",
    "        Position=position,\n",
    "        Company=company,\n",
    "        Address=address,\n",
    "        Mobile=mobile,\n",
    "        Email=email,\n",
    "    )\n",
    "\n",
    "    document.write(f'邮件合并/{name}.docx')"
   ]
  },
  {
   "cell_type": "code",
   "execution_count": null,
   "id": "d07be6ee",
   "metadata": {},
   "outputs": [],
   "source": []
  }
 ],
 "metadata": {
  "interpreter": {
   "hash": "efbf56fc117e418e44edda1cb10ef72e1d236bfeb453c90c79d8abd3fc7dd926"
  },
  "kernelspec": {
   "display_name": "Python 3.8.8 64-bit ('venv0': venv)",
   "language": "python",
   "name": "python388jvsc74a57bd0efbf56fc117e418e44edda1cb10ef72e1d236bfeb453c90c79d8abd3fc7dd926"
  },
  "language_info": {
   "codemirror_mode": {
    "name": "ipython",
    "version": 3
   },
   "file_extension": ".py",
   "mimetype": "text/x-python",
   "name": "python",
   "nbconvert_exporter": "python",
   "pygments_lexer": "ipython3",
   "version": "3.9.7"
  }
 },
 "nbformat": 4,
 "nbformat_minor": 5
}
