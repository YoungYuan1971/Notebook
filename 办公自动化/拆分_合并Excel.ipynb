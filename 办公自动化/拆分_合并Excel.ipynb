{
 "cells": [
  {
   "cell_type": "code",
   "execution_count": 1,
   "id": "d8cf4976",
   "metadata": {},
   "outputs": [],
   "source": [
    "import pandas as pd"
   ]
  },
  {
   "cell_type": "markdown",
   "id": "3a0c98e5",
   "metadata": {},
   "source": [
    "### 一、拆分_第一种写法"
   ]
  },
  {
   "cell_type": "code",
   "execution_count": 2,
   "id": "028a58dc",
   "metadata": {},
   "outputs": [
    {
     "data": {
      "text/html": [
       "<div>\n",
       "<style scoped>\n",
       "    .dataframe tbody tr th:only-of-type {\n",
       "        vertical-align: middle;\n",
       "    }\n",
       "\n",
       "    .dataframe tbody tr th {\n",
       "        vertical-align: top;\n",
       "    }\n",
       "\n",
       "    .dataframe thead th {\n",
       "        text-align: right;\n",
       "    }\n",
       "</style>\n",
       "<table border=\"1\" class=\"dataframe\">\n",
       "  <thead>\n",
       "    <tr style=\"text-align: right;\">\n",
       "      <th></th>\n",
       "      <th>name</th>\n",
       "      <th>number</th>\n",
       "      <th>price</th>\n",
       "    </tr>\n",
       "  </thead>\n",
       "  <tbody>\n",
       "    <tr>\n",
       "      <th>0</th>\n",
       "      <td>apple</td>\n",
       "      <td>12</td>\n",
       "      <td>10</td>\n",
       "    </tr>\n",
       "    <tr>\n",
       "      <th>1</th>\n",
       "      <td>apple</td>\n",
       "      <td>1</td>\n",
       "      <td>1</td>\n",
       "    </tr>\n",
       "    <tr>\n",
       "      <th>2</th>\n",
       "      <td>banana</td>\n",
       "      <td>18</td>\n",
       "      <td>12</td>\n",
       "    </tr>\n",
       "    <tr>\n",
       "      <th>3</th>\n",
       "      <td>apple</td>\n",
       "      <td>20</td>\n",
       "      <td>8</td>\n",
       "    </tr>\n",
       "    <tr>\n",
       "      <th>4</th>\n",
       "      <td>banana</td>\n",
       "      <td>20</td>\n",
       "      <td>10</td>\n",
       "    </tr>\n",
       "  </tbody>\n",
       "</table>\n",
       "</div>"
      ],
      "text/plain": [
       "     name  number  price\n",
       "0   apple      12     10\n",
       "1   apple       1      1\n",
       "2  banana      18     12\n",
       "3   apple      20      8\n",
       "4  banana      20     10"
      ]
     },
     "execution_count": 2,
     "metadata": {},
     "output_type": "execute_result"
    }
   ],
   "source": [
    "excel_split = pd.read_excel('待拆分.xlsx')\n",
    "excel_split.head()"
   ]
  },
  {
   "cell_type": "code",
   "execution_count": 3,
   "id": "283ef6db",
   "metadata": {},
   "outputs": [
    {
     "data": {
      "text/plain": [
       "[('apple',\n",
       "      name  number  price\n",
       "  0  apple      12     10\n",
       "  1  apple       1      1\n",
       "  3  apple      20      8),\n",
       " ('banana',\n",
       "       name  number  price\n",
       "  2  banana      18     12\n",
       "  4  banana      20     10\n",
       "  6  banana      20     13),\n",
       " ('cherry',\n",
       "       name  number  price\n",
       "  5  cherry      20     15\n",
       "  7  cherry      10     13)]"
      ]
     },
     "execution_count": 3,
     "metadata": {},
     "output_type": "execute_result"
    }
   ],
   "source": [
    "group = excel_split.groupby(by='name')\n",
    "list(group)"
   ]
  },
  {
   "cell_type": "code",
   "execution_count": 5,
   "id": "122500af",
   "metadata": {},
   "outputs": [
    {
     "name": "stdout",
     "output_type": "stream",
     "text": [
      "    name  number  price\n",
      "0  apple      12     10\n",
      "1  apple       1      1\n",
      "3  apple      20      8\n",
      "     name  number  price\n",
      "2  banana      18     12\n",
      "4  banana      20     10\n",
      "6  banana      20     13\n",
      "     name  number  price\n",
      "5  cherry      20     15\n",
      "7  cherry      10     13\n"
     ]
    }
   ],
   "source": [
    "with pd.ExcelWriter('拆分1.xlsx') as writer:\n",
    "    for datas in group:\n",
    "        sheet = pd.DataFrame(datas[1])\n",
    "        sheet.to_excel(writer, sheet_name=datas[0], index=False)\n",
    "        print(sheet)"
   ]
  },
  {
   "cell_type": "markdown",
   "id": "e6be0f9f",
   "metadata": {},
   "source": [
    "### 二、拆分_第二种写法（推荐）"
   ]
  },
  {
   "cell_type": "code",
   "execution_count": 6,
   "id": "790f86fe",
   "metadata": {
    "scrolled": true
   },
   "outputs": [
    {
     "data": {
      "text/html": [
       "<div>\n",
       "<style scoped>\n",
       "    .dataframe tbody tr th:only-of-type {\n",
       "        vertical-align: middle;\n",
       "    }\n",
       "\n",
       "    .dataframe tbody tr th {\n",
       "        vertical-align: top;\n",
       "    }\n",
       "\n",
       "    .dataframe thead th {\n",
       "        text-align: right;\n",
       "    }\n",
       "</style>\n",
       "<table border=\"1\" class=\"dataframe\">\n",
       "  <thead>\n",
       "    <tr style=\"text-align: right;\">\n",
       "      <th></th>\n",
       "      <th>name</th>\n",
       "      <th>number</th>\n",
       "      <th>price</th>\n",
       "    </tr>\n",
       "  </thead>\n",
       "  <tbody>\n",
       "    <tr>\n",
       "      <th>0</th>\n",
       "      <td>apple</td>\n",
       "      <td>12</td>\n",
       "      <td>10</td>\n",
       "    </tr>\n",
       "    <tr>\n",
       "      <th>1</th>\n",
       "      <td>apple</td>\n",
       "      <td>1</td>\n",
       "      <td>1</td>\n",
       "    </tr>\n",
       "    <tr>\n",
       "      <th>2</th>\n",
       "      <td>banana</td>\n",
       "      <td>18</td>\n",
       "      <td>12</td>\n",
       "    </tr>\n",
       "    <tr>\n",
       "      <th>3</th>\n",
       "      <td>apple</td>\n",
       "      <td>20</td>\n",
       "      <td>8</td>\n",
       "    </tr>\n",
       "    <tr>\n",
       "      <th>4</th>\n",
       "      <td>banana</td>\n",
       "      <td>20</td>\n",
       "      <td>10</td>\n",
       "    </tr>\n",
       "  </tbody>\n",
       "</table>\n",
       "</div>"
      ],
      "text/plain": [
       "     name  number  price\n",
       "0   apple      12     10\n",
       "1   apple       1      1\n",
       "2  banana      18     12\n",
       "3   apple      20      8\n",
       "4  banana      20     10"
      ]
     },
     "execution_count": 6,
     "metadata": {},
     "output_type": "execute_result"
    }
   ],
   "source": [
    "df = pd.read_excel('待拆分.xlsx')\n",
    "df.head()"
   ]
  },
  {
   "cell_type": "code",
   "execution_count": 7,
   "id": "7dc4b6fe",
   "metadata": {},
   "outputs": [
    {
     "data": {
      "text/plain": [
       "array(['apple', 'banana', 'cherry'], dtype=object)"
      ]
     },
     "execution_count": 7,
     "metadata": {},
     "output_type": "execute_result"
    }
   ],
   "source": [
    "names = df['name'].unique()  # 通过唯一值方式，将‘name’字段去重，unique()方法作用在Series上\n",
    "names"
   ]
  },
  {
   "cell_type": "code",
   "execution_count": 8,
   "id": "27d55092",
   "metadata": {},
   "outputs": [
    {
     "name": "stdout",
     "output_type": "stream",
     "text": [
      "    name  number  price\n",
      "0  apple      12     10\n",
      "1  apple       1      1\n",
      "3  apple      20      8\n",
      "     name  number  price\n",
      "2  banana      18     12\n",
      "4  banana      20     10\n",
      "6  banana      20     13\n",
      "     name  number  price\n",
      "5  cherry      20     15\n",
      "7  cherry      10     13\n"
     ]
    }
   ],
   "source": [
    "with pd.ExcelWriter('拆分2.xlsx', engine='openpyxl', mode='w') as writer:\n",
    "    for name in names:\n",
    "        excel = df.loc[df['name'] == name]\n",
    "        excel.to_excel(writer, sheet_name=name, index=False)\n",
    "        print(excel)"
   ]
  },
  {
   "cell_type": "markdown",
   "id": "73d9f768",
   "metadata": {},
   "source": [
    "### 三、合并"
   ]
  },
  {
   "cell_type": "code",
   "execution_count": 9,
   "id": "7c2d5eb7",
   "metadata": {},
   "outputs": [
    {
     "data": {
      "text/html": [
       "<div>\n",
       "<style scoped>\n",
       "    .dataframe tbody tr th:only-of-type {\n",
       "        vertical-align: middle;\n",
       "    }\n",
       "\n",
       "    .dataframe tbody tr th {\n",
       "        vertical-align: top;\n",
       "    }\n",
       "\n",
       "    .dataframe thead th {\n",
       "        text-align: right;\n",
       "    }\n",
       "</style>\n",
       "<table border=\"1\" class=\"dataframe\">\n",
       "  <thead>\n",
       "    <tr style=\"text-align: right;\">\n",
       "      <th></th>\n",
       "      <th>name</th>\n",
       "      <th>number</th>\n",
       "      <th>price</th>\n",
       "    </tr>\n",
       "  </thead>\n",
       "  <tbody>\n",
       "    <tr>\n",
       "      <th>0</th>\n",
       "      <td>apple</td>\n",
       "      <td>12</td>\n",
       "      <td>10</td>\n",
       "    </tr>\n",
       "    <tr>\n",
       "      <th>1</th>\n",
       "      <td>apple</td>\n",
       "      <td>1</td>\n",
       "      <td>1</td>\n",
       "    </tr>\n",
       "    <tr>\n",
       "      <th>2</th>\n",
       "      <td>apple</td>\n",
       "      <td>20</td>\n",
       "      <td>8</td>\n",
       "    </tr>\n",
       "    <tr>\n",
       "      <th>0</th>\n",
       "      <td>banana</td>\n",
       "      <td>18</td>\n",
       "      <td>12</td>\n",
       "    </tr>\n",
       "    <tr>\n",
       "      <th>1</th>\n",
       "      <td>banana</td>\n",
       "      <td>20</td>\n",
       "      <td>10</td>\n",
       "    </tr>\n",
       "    <tr>\n",
       "      <th>2</th>\n",
       "      <td>banana</td>\n",
       "      <td>20</td>\n",
       "      <td>13</td>\n",
       "    </tr>\n",
       "    <tr>\n",
       "      <th>0</th>\n",
       "      <td>cherry</td>\n",
       "      <td>20</td>\n",
       "      <td>15</td>\n",
       "    </tr>\n",
       "    <tr>\n",
       "      <th>1</th>\n",
       "      <td>cherry</td>\n",
       "      <td>10</td>\n",
       "      <td>13</td>\n",
       "    </tr>\n",
       "  </tbody>\n",
       "</table>\n",
       "</div>"
      ],
      "text/plain": [
       "     name  number  price\n",
       "0   apple      12     10\n",
       "1   apple       1      1\n",
       "2   apple      20      8\n",
       "0  banana      18     12\n",
       "1  banana      20     10\n",
       "2  banana      20     13\n",
       "0  cherry      20     15\n",
       "1  cherry      10     13"
      ]
     },
     "execution_count": 9,
     "metadata": {},
     "output_type": "execute_result"
    }
   ],
   "source": [
    "excel_merge = pd.ExcelFile('拆分1.xlsx')\n",
    "result = []\n",
    "for sheetName in excel_merge.sheet_names:\n",
    "    reader = pd.read_excel(excel_merge, sheet_name=sheetName)\n",
    "    result.append(reader)\n",
    "results = pd.concat(result)\n",
    "\n",
    "results.to_excel('合并.xlsx', sheet_name='合并', index=False)\n",
    "results"
   ]
  },
  {
   "cell_type": "code",
   "execution_count": null,
   "id": "4aeb7741",
   "metadata": {},
   "outputs": [],
   "source": []
  }
 ],
 "metadata": {
  "kernelspec": {
   "display_name": "Python3.9 venv0",
   "language": "python",
   "name": "python3.9_venv0"
  },
  "language_info": {
   "codemirror_mode": {
    "name": "ipython",
    "version": 3
   },
   "file_extension": ".py",
   "mimetype": "text/x-python",
   "name": "python",
   "nbconvert_exporter": "python",
   "pygments_lexer": "ipython3",
   "version": "3.9.12"
  }
 },
 "nbformat": 4,
 "nbformat_minor": 5
}
