{
 "cells": [
  {
   "cell_type": "markdown",
   "id": "5ead1b3e",
   "metadata": {},
   "source": [
    "### 导入包"
   ]
  },
  {
   "cell_type": "code",
   "execution_count": 5,
   "id": "1fbfa46e",
   "metadata": {},
   "outputs": [],
   "source": [
    "import os\n",
    "from docx import Document\n",
    "import pandas as pd\n",
    "from tqdm import tqdm"
   ]
  },
  {
   "cell_type": "markdown",
   "id": "e9515614",
   "metadata": {},
   "source": [
    "### 解析word文档表格内的数据，并提取"
   ]
  },
  {
   "cell_type": "code",
   "execution_count": 6,
   "id": "12cbced1",
   "metadata": {},
   "outputs": [],
   "source": [
    "def parse_doc(path):\n",
    "    document = Document(path)\n",
    "    table = document.tables[0]\n",
    "    data_info = {\n",
    "        '姓名': table.cell(1, 1).text,\n",
    "        '手机号码': table.cell(1, 5).text,\n",
    "        '性别': table.cell(2, 1).text,\n",
    "        '证件号码': table.cell(2, 3).text,\n",
    "        '出生年月': table.cell(2, 6).text,\n",
    "        '政治面貌': table.cell(3, 1).text,\n",
    "        '民族': table.cell(3, 5).text,\n",
    "        '是否色盲': table.cell(4, 1).text,\n",
    "        '身高/体重': table.cell(4, 3).text,\n",
    "        '视力': table.cell(4, 6).text,\n",
    "        '报考报名号': table.cell(5, 1).text,\n",
    "        '考生类型': table.cell(5, 5).text,\n",
    "        '高考报名所在地': table.cell(6, 1).text,\n",
    "        '外语语种': table.cell(7,1).text,\n",
    "    }\n",
    "    return data_info"
   ]
  },
  {
   "cell_type": "markdown",
   "id": "d4b978b2",
   "metadata": {},
   "source": [
    "### 主程序\n",
    "- 遍历文件夹，获取.docx后缀的文件\n",
    "- 拼接文件路径\n",
    "- 将解析后的数据以列表形式装载"
   ]
  },
  {
   "cell_type": "code",
   "execution_count": 7,
   "id": "cb2b0e41",
   "metadata": {},
   "outputs": [
    {
     "name": "stderr",
     "output_type": "stream",
     "text": [
      "100%|██████████| 5/5 [00:00<00:00, 59.28it/s]\n"
     ]
    }
   ],
   "source": [
    "dir_path = 'Word2Excel'\n",
    "datas = []\n",
    "for file in tqdm(os.listdir(dir_path)):\n",
    "    if file.endswith('.docx'):\n",
    "        fileName = os.path.join(dir_path, file)\n",
    "        data = parse_doc(fileName)\n",
    "        datas.append(data)"
   ]
  },
  {
   "cell_type": "markdown",
   "id": "1877f523",
   "metadata": {},
   "source": [
    "- 用DataFrame形式写入Excel"
   ]
  },
  {
   "cell_type": "code",
   "execution_count": 8,
   "id": "8e3fc9a1",
   "metadata": {},
   "outputs": [
    {
     "data": {
      "text/html": [
       "<div>\n",
       "<style scoped>\n",
       "    .dataframe tbody tr th:only-of-type {\n",
       "        vertical-align: middle;\n",
       "    }\n",
       "\n",
       "    .dataframe tbody tr th {\n",
       "        vertical-align: top;\n",
       "    }\n",
       "\n",
       "    .dataframe thead th {\n",
       "        text-align: right;\n",
       "    }\n",
       "</style>\n",
       "<table border=\"1\" class=\"dataframe\">\n",
       "  <thead>\n",
       "    <tr style=\"text-align: right;\">\n",
       "      <th></th>\n",
       "      <th>姓名</th>\n",
       "      <th>手机号码</th>\n",
       "      <th>性别</th>\n",
       "      <th>证件号码</th>\n",
       "      <th>出生年月</th>\n",
       "      <th>政治面貌</th>\n",
       "      <th>民族</th>\n",
       "      <th>是否色盲</th>\n",
       "      <th>身高/体重</th>\n",
       "      <th>视力</th>\n",
       "      <th>报考报名号</th>\n",
       "      <th>考生类型</th>\n",
       "      <th>高考报名所在地</th>\n",
       "      <th>外语语种</th>\n",
       "    </tr>\n",
       "  </thead>\n",
       "  <tbody>\n",
       "    <tr>\n",
       "      <th>0</th>\n",
       "      <td>袁泽松</td>\n",
       "      <td>13601991817</td>\n",
       "      <td>男</td>\n",
       "      <td>310110200101071017</td>\n",
       "      <td>2001-01-07</td>\n",
       "      <td>中国共产主义青年团团员</td>\n",
       "      <td>汉族</td>\n",
       "      <td>否</td>\n",
       "      <td>183/85</td>\n",
       "      <td>左4.8/右5.1</td>\n",
       "      <td></td>\n",
       "      <td>城镇应届</td>\n",
       "      <td>上海市市辖区浦东新区</td>\n",
       "      <td>英语</td>\n",
       "    </tr>\n",
       "    <tr>\n",
       "      <th>1</th>\n",
       "      <td>袁青</td>\n",
       "      <td>13901712350</td>\n",
       "      <td>男</td>\n",
       "      <td>31010319711228081X</td>\n",
       "      <td>1971-12-28</td>\n",
       "      <td>中共党员</td>\n",
       "      <td>汉族</td>\n",
       "      <td>否</td>\n",
       "      <td>171/66</td>\n",
       "      <td>左5.1/右5.1</td>\n",
       "      <td></td>\n",
       "      <td>城镇应届</td>\n",
       "      <td>上海市市辖区黄浦区</td>\n",
       "      <td>英语</td>\n",
       "    </tr>\n",
       "    <tr>\n",
       "      <th>2</th>\n",
       "      <td>严臻</td>\n",
       "      <td>13601991817</td>\n",
       "      <td>女</td>\n",
       "      <td>310110197011132029</td>\n",
       "      <td>1970-11-13</td>\n",
       "      <td>群众</td>\n",
       "      <td>汉族</td>\n",
       "      <td>否</td>\n",
       "      <td>161/49</td>\n",
       "      <td>左5.0/右5.1</td>\n",
       "      <td></td>\n",
       "      <td>城镇应届</td>\n",
       "      <td>上海市市辖区杨浦区</td>\n",
       "      <td>英语</td>\n",
       "    </tr>\n",
       "  </tbody>\n",
       "</table>\n",
       "</div>"
      ],
      "text/plain": [
       "    姓名         手机号码 性别                证件号码        出生年月         政治面貌  民族 是否色盲  \\\n",
       "0  袁泽松  13601991817  男  310110200101071017  2001-01-07  中国共产主义青年团团员  汉族    否   \n",
       "1   袁青  13901712350  男  31010319711228081X  1971-12-28         中共党员  汉族    否   \n",
       "2   严臻  13601991817  女  310110197011132029  1970-11-13           群众  汉族    否   \n",
       "\n",
       "    身高/体重         视力 报考报名号  考生类型     高考报名所在地 外语语种  \n",
       "0  183/85  左4.8/右5.1     　  城镇应届  上海市市辖区浦东新区   英语  \n",
       "1  171/66  左5.1/右5.1     　  城镇应届   上海市市辖区黄浦区   英语  \n",
       "2  161/49  左5.0/右5.1     　  城镇应届   上海市市辖区杨浦区   英语  "
      ]
     },
     "execution_count": 8,
     "metadata": {},
     "output_type": "execute_result"
    }
   ],
   "source": [
    "df = pd.DataFrame(datas)\n",
    "df.to_excel(f'{dir_path}/Summary.xlsx', index=False)\n",
    "df"
   ]
  },
  {
   "cell_type": "code",
   "execution_count": null,
   "id": "ce7cd227",
   "metadata": {},
   "outputs": [],
   "source": []
  }
 ],
 "metadata": {
  "interpreter": {
   "hash": "d606165cd0af856767b90bbc7a0a49e983a164d2504fab8c5191c5756f55e227"
  },
  "kernelspec": {
   "display_name": "Python 3.8.8 64-bit ('venv0': venv)",
   "language": "python",
   "name": "python388jvsc74a57bd0efbf56fc117e418e44edda1cb10ef72e1d236bfeb453c90c79d8abd3fc7dd926"
  },
  "language_info": {
   "codemirror_mode": {
    "name": "ipython",
    "version": 3
   },
   "file_extension": ".py",
   "mimetype": "text/x-python",
   "name": "python",
   "nbconvert_exporter": "python",
   "pygments_lexer": "ipython3",
   "version": "3.8.8"
  }
 },
 "nbformat": 4,
 "nbformat_minor": 5
}
