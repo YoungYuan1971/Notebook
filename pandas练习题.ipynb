{
 "cells": [
  {
   "cell_type": "code",
   "execution_count": 1,
   "id": "9df75de3",
   "metadata": {},
   "outputs": [],
   "source": [
    "import pandas as pd\n",
    "import numpy as np"
   ]
  },
  {
   "cell_type": "markdown",
   "id": "f567bed3",
   "metadata": {},
   "source": [
    "### 使用list构造Series"
   ]
  },
  {
   "cell_type": "code",
   "execution_count": 2,
   "id": "4ccc6e52",
   "metadata": {},
   "outputs": [
    {
     "data": {
      "text/plain": [
       "0     语文\n",
       "1     数学\n",
       "2     英语\n",
       "3    计算机\n",
       "dtype: object"
      ]
     },
     "execution_count": 2,
     "metadata": {},
     "output_type": "execute_result"
    }
   ],
   "source": [
    "course = ['语文', '数学', '英语', '计算机']\n",
    "data = pd.Series(course)\n",
    "data"
   ]
  },
  {
   "cell_type": "markdown",
   "id": "534b936f",
   "metadata": {},
   "source": [
    "### 用dict构造Series"
   ]
  },
  {
   "cell_type": "code",
   "execution_count": 3,
   "id": "cc995bda",
   "metadata": {},
   "outputs": [
    {
     "data": {
      "text/plain": [
       "语文      80\n",
       "数学      90\n",
       "英语     100\n",
       "计算机    100\n",
       "dtype: int64"
      ]
     },
     "execution_count": 3,
     "metadata": {},
     "output_type": "execute_result"
    }
   ],
   "source": [
    "grades = {'语文': 80, '数学': 90, '英语': 100, '计算机': 100}\n",
    "data = pd.Series(grades)\n",
    "data"
   ]
  },
  {
   "cell_type": "markdown",
   "id": "a2ca9357",
   "metadata": {},
   "source": [
    "### Series转为list"
   ]
  },
  {
   "cell_type": "code",
   "execution_count": 4,
   "id": "d02e621f",
   "metadata": {},
   "outputs": [
    {
     "data": {
      "text/plain": [
       "['语文', '数学', '英语', '计算机']"
      ]
     },
     "execution_count": 4,
     "metadata": {},
     "output_type": "execute_result"
    }
   ],
   "source": [
    "course = ['语文', '数学', '英语', '计算机']\n",
    "data = pd.Series(course)\n",
    "lst = data.to_list()\n",
    "lst"
   ]
  },
  {
   "cell_type": "markdown",
   "id": "85d94e84",
   "metadata": {},
   "source": [
    "### Series转为DataFrame"
   ]
  },
  {
   "cell_type": "code",
   "execution_count": 5,
   "id": "651392f7",
   "metadata": {},
   "outputs": [
    {
     "data": {
      "text/plain": [
       "语文      80\n",
       "数学      90\n",
       "英语     100\n",
       "计算机    100\n",
       "dtype: int64"
      ]
     },
     "execution_count": 5,
     "metadata": {},
     "output_type": "execute_result"
    }
   ],
   "source": [
    "grades = {'语文': 80, '数学': 90, '英语': 100, '计算机': 100}\n",
    "data = pd.Series(grades)\n",
    "data"
   ]
  },
  {
   "cell_type": "markdown",
   "id": "86b6c223",
   "metadata": {},
   "source": [
    "- 第一种方法：直接用DataFrame转换"
   ]
  },
  {
   "cell_type": "code",
   "execution_count": 6,
   "id": "a928c6e0",
   "metadata": {
    "scrolled": true
   },
   "outputs": [
    {
     "data": {
      "text/html": [
       "<div>\n",
       "<style scoped>\n",
       "    .dataframe tbody tr th:only-of-type {\n",
       "        vertical-align: middle;\n",
       "    }\n",
       "\n",
       "    .dataframe tbody tr th {\n",
       "        vertical-align: top;\n",
       "    }\n",
       "\n",
       "    .dataframe thead th {\n",
       "        text-align: right;\n",
       "    }\n",
       "</style>\n",
       "<table border=\"1\" class=\"dataframe\">\n",
       "  <thead>\n",
       "    <tr style=\"text-align: right;\">\n",
       "      <th></th>\n",
       "      <th>grades</th>\n",
       "    </tr>\n",
       "  </thead>\n",
       "  <tbody>\n",
       "    <tr>\n",
       "      <th>语文</th>\n",
       "      <td>80</td>\n",
       "    </tr>\n",
       "    <tr>\n",
       "      <th>数学</th>\n",
       "      <td>90</td>\n",
       "    </tr>\n",
       "    <tr>\n",
       "      <th>英语</th>\n",
       "      <td>100</td>\n",
       "    </tr>\n",
       "    <tr>\n",
       "      <th>计算机</th>\n",
       "      <td>100</td>\n",
       "    </tr>\n",
       "  </tbody>\n",
       "</table>\n",
       "</div>"
      ],
      "text/plain": [
       "     grades\n",
       "语文       80\n",
       "数学       90\n",
       "英语      100\n",
       "计算机     100"
      ]
     },
     "execution_count": 6,
     "metadata": {},
     "output_type": "execute_result"
    }
   ],
   "source": [
    "df1 = pd.DataFrame(data, columns=['grades'])\n",
    "df1"
   ]
  },
  {
   "cell_type": "code",
   "execution_count": 7,
   "id": "8c2ce320",
   "metadata": {},
   "outputs": [
    {
     "data": {
      "text/plain": [
       "pandas.core.frame.DataFrame"
      ]
     },
     "execution_count": 7,
     "metadata": {},
     "output_type": "execute_result"
    }
   ],
   "source": [
    "type(df1)"
   ]
  },
  {
   "cell_type": "markdown",
   "id": "78762dec",
   "metadata": {},
   "source": [
    "- 第二种方法：用reset_index转换"
   ]
  },
  {
   "cell_type": "code",
   "execution_count": 8,
   "id": "5676aeda",
   "metadata": {
    "scrolled": true
   },
   "outputs": [
    {
     "data": {
      "text/html": [
       "<div>\n",
       "<style scoped>\n",
       "    .dataframe tbody tr th:only-of-type {\n",
       "        vertical-align: middle;\n",
       "    }\n",
       "\n",
       "    .dataframe tbody tr th {\n",
       "        vertical-align: top;\n",
       "    }\n",
       "\n",
       "    .dataframe thead th {\n",
       "        text-align: right;\n",
       "    }\n",
       "</style>\n",
       "<table border=\"1\" class=\"dataframe\">\n",
       "  <thead>\n",
       "    <tr style=\"text-align: right;\">\n",
       "      <th></th>\n",
       "      <th>Course</th>\n",
       "      <th>Grades</th>\n",
       "    </tr>\n",
       "  </thead>\n",
       "  <tbody>\n",
       "    <tr>\n",
       "      <th>0</th>\n",
       "      <td>语文</td>\n",
       "      <td>80</td>\n",
       "    </tr>\n",
       "    <tr>\n",
       "      <th>1</th>\n",
       "      <td>数学</td>\n",
       "      <td>90</td>\n",
       "    </tr>\n",
       "    <tr>\n",
       "      <th>2</th>\n",
       "      <td>英语</td>\n",
       "      <td>100</td>\n",
       "    </tr>\n",
       "    <tr>\n",
       "      <th>3</th>\n",
       "      <td>计算机</td>\n",
       "      <td>100</td>\n",
       "    </tr>\n",
       "  </tbody>\n",
       "</table>\n",
       "</div>"
      ],
      "text/plain": [
       "  Course  Grades\n",
       "0     语文      80\n",
       "1     数学      90\n",
       "2     英语     100\n",
       "3    计算机     100"
      ]
     },
     "execution_count": 8,
     "metadata": {},
     "output_type": "execute_result"
    }
   ],
   "source": [
    "df2 = data.reset_index()\n",
    "df2.columns = ['Course', 'Grades']\n",
    "df2"
   ]
  },
  {
   "cell_type": "code",
   "execution_count": 9,
   "id": "9af12b04",
   "metadata": {},
   "outputs": [
    {
     "data": {
      "text/plain": [
       "pandas.core.frame.DataFrame"
      ]
     },
     "execution_count": 9,
     "metadata": {},
     "output_type": "execute_result"
    }
   ],
   "source": [
    "type(df2)"
   ]
  },
  {
   "cell_type": "markdown",
   "id": "3c292df6",
   "metadata": {},
   "source": [
    "### 借助numpy创建Series"
   ]
  },
  {
   "cell_type": "code",
   "execution_count": 10,
   "id": "0ff6b5a8",
   "metadata": {},
   "outputs": [
    {
     "data": {
      "text/plain": [
       "101    10.0\n",
       "102    20.0\n",
       "103    30.0\n",
       "104    40.0\n",
       "105    50.0\n",
       "106    60.0\n",
       "107    70.0\n",
       "108    80.0\n",
       "109    90.0\n",
       "dtype: float64"
      ]
     },
     "execution_count": 10,
     "metadata": {},
     "output_type": "execute_result"
    }
   ],
   "source": [
    "ser = pd.Series(np.arange(10, 100, 10),\n",
    "                index=np.arange(101, 110),\n",
    "                dtype='float')\n",
    "ser"
   ]
  },
  {
   "cell_type": "markdown",
   "id": "5f281540",
   "metadata": {},
   "source": [
    "### 转换Series的数据类型"
   ]
  },
  {
   "cell_type": "code",
   "execution_count": 11,
   "id": "08eaa2b3",
   "metadata": {},
   "outputs": [
    {
     "data": {
      "text/plain": [
       "a    001\n",
       "b    002\n",
       "c    003\n",
       "d    004\n",
       "dtype: object"
      ]
     },
     "execution_count": 11,
     "metadata": {},
     "output_type": "execute_result"
    }
   ],
   "source": [
    "ser = pd.Series(data=['001', '002', '003', '004'], index=list('abcd'))\n",
    "ser"
   ]
  },
  {
   "cell_type": "code",
   "execution_count": 12,
   "id": "4733ae2c",
   "metadata": {},
   "outputs": [
    {
     "data": {
      "text/plain": [
       "a    1\n",
       "b    2\n",
       "c    3\n",
       "d    4\n",
       "dtype: int64"
      ]
     },
     "execution_count": 12,
     "metadata": {},
     "output_type": "execute_result"
    }
   ],
   "source": [
    "ser = ser.astype(int)\n",
    "ser"
   ]
  },
  {
   "cell_type": "markdown",
   "id": "04f27439",
   "metadata": {},
   "source": [
    "### 给Series添加元素"
   ]
  },
  {
   "cell_type": "code",
   "execution_count": 13,
   "id": "c3526a32",
   "metadata": {},
   "outputs": [
    {
     "data": {
      "text/plain": [
       "语文      80\n",
       "数学      90\n",
       "英语     100\n",
       "计算机    100\n",
       "dtype: int64"
      ]
     },
     "execution_count": 13,
     "metadata": {},
     "output_type": "execute_result"
    }
   ],
   "source": [
    "grades = {'语文': 80, '数学': 90, '英语': 100, '计算机': 100}\n",
    "data = pd.Series(grades)\n",
    "data"
   ]
  },
  {
   "cell_type": "code",
   "execution_count": 14,
   "id": "32f5ea9d",
   "metadata": {},
   "outputs": [
    {
     "data": {
      "text/plain": [
       "语文      80\n",
       "数学      90\n",
       "英语     100\n",
       "计算机    100\n",
       "物理      85\n",
       "化学      99\n",
       "dtype: int64"
      ]
     },
     "execution_count": 14,
     "metadata": {},
     "output_type": "execute_result"
    }
   ],
   "source": [
    "data = data.append(pd.Series({'物理': 85, '化学': 99}))\n",
    "data"
   ]
  },
  {
   "cell_type": "markdown",
   "id": "4c2a0eb1",
   "metadata": {},
   "source": [
    "### 使用字典创建DataFrame"
   ]
  },
  {
   "cell_type": "code",
   "execution_count": 15,
   "id": "8b62377d",
   "metadata": {},
   "outputs": [
    {
     "data": {
      "text/html": [
       "<div>\n",
       "<style scoped>\n",
       "    .dataframe tbody tr th:only-of-type {\n",
       "        vertical-align: middle;\n",
       "    }\n",
       "\n",
       "    .dataframe tbody tr th {\n",
       "        vertical-align: top;\n",
       "    }\n",
       "\n",
       "    .dataframe thead th {\n",
       "        text-align: right;\n",
       "    }\n",
       "</style>\n",
       "<table border=\"1\" class=\"dataframe\">\n",
       "  <thead>\n",
       "    <tr style=\"text-align: right;\">\n",
       "      <th></th>\n",
       "      <th>语文</th>\n",
       "      <th>数学</th>\n",
       "      <th>英语</th>\n",
       "    </tr>\n",
       "  </thead>\n",
       "  <tbody>\n",
       "    <tr>\n",
       "      <th>0</th>\n",
       "      <td>80</td>\n",
       "      <td>90</td>\n",
       "      <td>100</td>\n",
       "    </tr>\n",
       "    <tr>\n",
       "      <th>1</th>\n",
       "      <td>90</td>\n",
       "      <td>88</td>\n",
       "      <td>90</td>\n",
       "    </tr>\n",
       "    <tr>\n",
       "      <th>2</th>\n",
       "      <td>100</td>\n",
       "      <td>70</td>\n",
       "      <td>100</td>\n",
       "    </tr>\n",
       "  </tbody>\n",
       "</table>\n",
       "</div>"
      ],
      "text/plain": [
       "    语文  数学   英语\n",
       "0   80  90  100\n",
       "1   90  88   90\n",
       "2  100  70  100"
      ]
     },
     "execution_count": 15,
     "metadata": {},
     "output_type": "execute_result"
    }
   ],
   "source": [
    "grades = {'语文': [80, 90, 100], '数学': [90, 88, 70], '英语': [100, 90, 100]}\n",
    "data = pd.DataFrame(grades)\n",
    "data"
   ]
  },
  {
   "cell_type": "markdown",
   "id": "8af86b2f",
   "metadata": {},
   "source": [
    "### 设置DateFrame的索引列"
   ]
  },
  {
   "cell_type": "code",
   "execution_count": 16,
   "id": "c73a0dca",
   "metadata": {},
   "outputs": [
    {
     "data": {
      "text/html": [
       "<div>\n",
       "<style scoped>\n",
       "    .dataframe tbody tr th:only-of-type {\n",
       "        vertical-align: middle;\n",
       "    }\n",
       "\n",
       "    .dataframe tbody tr th {\n",
       "        vertical-align: top;\n",
       "    }\n",
       "\n",
       "    .dataframe thead th {\n",
       "        text-align: right;\n",
       "    }\n",
       "</style>\n",
       "<table border=\"1\" class=\"dataframe\">\n",
       "  <thead>\n",
       "    <tr style=\"text-align: right;\">\n",
       "      <th></th>\n",
       "      <th>Gender</th>\n",
       "      <th>Age</th>\n",
       "    </tr>\n",
       "    <tr>\n",
       "      <th>Name</th>\n",
       "      <th></th>\n",
       "      <th></th>\n",
       "    </tr>\n",
       "  </thead>\n",
       "  <tbody>\n",
       "    <tr>\n",
       "      <th>Alex</th>\n",
       "      <td>M</td>\n",
       "      <td>18</td>\n",
       "    </tr>\n",
       "    <tr>\n",
       "      <th>Tom</th>\n",
       "      <td>M</td>\n",
       "      <td>20</td>\n",
       "    </tr>\n",
       "    <tr>\n",
       "      <th>Rose</th>\n",
       "      <td>F</td>\n",
       "      <td>30</td>\n",
       "    </tr>\n",
       "  </tbody>\n",
       "</table>\n",
       "</div>"
      ],
      "text/plain": [
       "     Gender  Age\n",
       "Name            \n",
       "Alex      M   18\n",
       "Tom       M   20\n",
       "Rose      F   30"
      ]
     },
     "execution_count": 16,
     "metadata": {},
     "output_type": "execute_result"
    }
   ],
   "source": [
    "data={\n",
    "    'Name':['Alex','Tom','Rose'],\n",
    "    'Gender':['M','M','F'],\n",
    "    'Age':[18,20,30]\n",
    "}\n",
    "df = pd.DataFrame(data)\n",
    "df.set_index('Name', inplace=True)\n",
    "df"
   ]
  },
  {
   "cell_type": "markdown",
   "id": "4d75b403",
   "metadata": {},
   "source": [
    "### 生成一个月所有日期"
   ]
  },
  {
   "cell_type": "code",
   "execution_count": 17,
   "id": "2c898ed3",
   "metadata": {},
   "outputs": [
    {
     "data": {
      "text/plain": [
       "DatetimeIndex(['2021-10-01', '2021-10-02', '2021-10-03', '2021-10-04',\n",
       "               '2021-10-05', '2021-10-06', '2021-10-07', '2021-10-08',\n",
       "               '2021-10-09', '2021-10-10', '2021-10-11', '2021-10-12',\n",
       "               '2021-10-13', '2021-10-14', '2021-10-15', '2021-10-16',\n",
       "               '2021-10-17', '2021-10-18', '2021-10-19', '2021-10-20',\n",
       "               '2021-10-21', '2021-10-22', '2021-10-23', '2021-10-24',\n",
       "               '2021-10-25', '2021-10-26', '2021-10-27', '2021-10-28',\n",
       "               '2021-10-29', '2021-10-30', '2021-10-31'],\n",
       "              dtype='datetime64[ns]', freq='D')"
      ]
     },
     "execution_count": 17,
     "metadata": {},
     "output_type": "execute_result"
    }
   ],
   "source": [
    "data_range = pd.date_range(start='2021-10-01', end='2021-10-31', freq='D')\n",
    "data_range"
   ]
  },
  {
   "cell_type": "markdown",
   "id": "463efb07",
   "metadata": {},
   "source": [
    "### 生成一年的所有周一日期"
   ]
  },
  {
   "cell_type": "code",
   "execution_count": 18,
   "id": "26a146e9",
   "metadata": {},
   "outputs": [
    {
     "data": {
      "text/plain": [
       "DatetimeIndex(['2021-01-04', '2021-01-11', '2021-01-18', '2021-01-25',\n",
       "               '2021-02-01', '2021-02-08', '2021-02-15', '2021-02-22',\n",
       "               '2021-03-01', '2021-03-08', '2021-03-15', '2021-03-22',\n",
       "               '2021-03-29', '2021-04-05', '2021-04-12', '2021-04-19',\n",
       "               '2021-04-26', '2021-05-03', '2021-05-10', '2021-05-17',\n",
       "               '2021-05-24', '2021-05-31', '2021-06-07', '2021-06-14',\n",
       "               '2021-06-21', '2021-06-28', '2021-07-05', '2021-07-12',\n",
       "               '2021-07-19', '2021-07-26', '2021-08-02', '2021-08-09',\n",
       "               '2021-08-16', '2021-08-23', '2021-08-30', '2021-09-06',\n",
       "               '2021-09-13', '2021-09-20', '2021-09-27', '2021-10-04',\n",
       "               '2021-10-11', '2021-10-18', '2021-10-25', '2021-11-01',\n",
       "               '2021-11-08', '2021-11-15', '2021-11-22', '2021-11-29',\n",
       "               '2021-12-06', '2021-12-13', '2021-12-20', '2021-12-27'],\n",
       "              dtype='datetime64[ns]', freq='W-MON')"
      ]
     },
     "execution_count": 18,
     "metadata": {},
     "output_type": "execute_result"
    }
   ],
   "source": [
    "data_range = pd.date_range(start='2021-01-01', end='2021-12-31', freq='W-MON')\n",
    "data_range"
   ]
  },
  {
   "cell_type": "markdown",
   "id": "e319334d",
   "metadata": {},
   "source": [
    "### 生成一天的所有小时"
   ]
  },
  {
   "cell_type": "code",
   "execution_count": 19,
   "id": "16653e68",
   "metadata": {},
   "outputs": [
    {
     "data": {
      "text/plain": [
       "DatetimeIndex(['2021-10-01 00:00:00', '2021-10-01 01:00:00',\n",
       "               '2021-10-01 02:00:00', '2021-10-01 03:00:00',\n",
       "               '2021-10-01 04:00:00', '2021-10-01 05:00:00',\n",
       "               '2021-10-01 06:00:00', '2021-10-01 07:00:00',\n",
       "               '2021-10-01 08:00:00', '2021-10-01 09:00:00',\n",
       "               '2021-10-01 10:00:00', '2021-10-01 11:00:00',\n",
       "               '2021-10-01 12:00:00', '2021-10-01 13:00:00',\n",
       "               '2021-10-01 14:00:00', '2021-10-01 15:00:00',\n",
       "               '2021-10-01 16:00:00', '2021-10-01 17:00:00',\n",
       "               '2021-10-01 18:00:00', '2021-10-01 19:00:00',\n",
       "               '2021-10-01 20:00:00', '2021-10-01 21:00:00',\n",
       "               '2021-10-01 22:00:00', '2021-10-01 23:00:00'],\n",
       "              dtype='datetime64[ns]', freq='H')"
      ]
     },
     "execution_count": 19,
     "metadata": {},
     "output_type": "execute_result"
    }
   ],
   "source": [
    "data_range = pd.date_range(start='2021-10-01', periods=24, freq='H')\n",
    "data_range"
   ]
  },
  {
   "cell_type": "markdown",
   "id": "6bfd7afe",
   "metadata": {},
   "source": [
    "### 生成日期DataFrame"
   ]
  },
  {
   "cell_type": "code",
   "execution_count": 20,
   "id": "deb31795",
   "metadata": {},
   "outputs": [
    {
     "data": {
      "text/html": [
       "<div>\n",
       "<style scoped>\n",
       "    .dataframe tbody tr th:only-of-type {\n",
       "        vertical-align: middle;\n",
       "    }\n",
       "\n",
       "    .dataframe tbody tr th {\n",
       "        vertical-align: top;\n",
       "    }\n",
       "\n",
       "    .dataframe thead th {\n",
       "        text-align: right;\n",
       "    }\n",
       "</style>\n",
       "<table border=\"1\" class=\"dataframe\">\n",
       "  <thead>\n",
       "    <tr style=\"text-align: right;\">\n",
       "      <th></th>\n",
       "      <th>day</th>\n",
       "      <th>day_of_year</th>\n",
       "    </tr>\n",
       "  </thead>\n",
       "  <tbody>\n",
       "    <tr>\n",
       "      <th>0</th>\n",
       "      <td>2021-10-01</td>\n",
       "      <td>274</td>\n",
       "    </tr>\n",
       "    <tr>\n",
       "      <th>1</th>\n",
       "      <td>2021-10-02</td>\n",
       "      <td>275</td>\n",
       "    </tr>\n",
       "    <tr>\n",
       "      <th>2</th>\n",
       "      <td>2021-10-03</td>\n",
       "      <td>276</td>\n",
       "    </tr>\n",
       "    <tr>\n",
       "      <th>3</th>\n",
       "      <td>2021-10-04</td>\n",
       "      <td>277</td>\n",
       "    </tr>\n",
       "    <tr>\n",
       "      <th>4</th>\n",
       "      <td>2021-10-05</td>\n",
       "      <td>278</td>\n",
       "    </tr>\n",
       "  </tbody>\n",
       "</table>\n",
       "</div>"
      ],
      "text/plain": [
       "         day  day_of_year\n",
       "0 2021-10-01          274\n",
       "1 2021-10-02          275\n",
       "2 2021-10-03          276\n",
       "3 2021-10-04          277\n",
       "4 2021-10-05          278"
      ]
     },
     "execution_count": 20,
     "metadata": {},
     "output_type": "execute_result"
    }
   ],
   "source": [
    "data_range = pd.date_range(start='2021-10-01', periods=31)\n",
    "data = pd.DataFrame(data_range, columns=['day'])\n",
    "data['day_of_year'] = data['day'].dt.dayofyear\n",
    "data.head()"
   ]
  },
  {
   "cell_type": "markdown",
   "id": "46d8f754",
   "metadata": {},
   "source": [
    "### 生成日期和随机分布DataFrame"
   ]
  },
  {
   "cell_type": "code",
   "execution_count": 21,
   "id": "6878c2a8",
   "metadata": {},
   "outputs": [
    {
     "data": {
      "text/html": [
       "<div>\n",
       "<style scoped>\n",
       "    .dataframe tbody tr th:only-of-type {\n",
       "        vertical-align: middle;\n",
       "    }\n",
       "\n",
       "    .dataframe tbody tr th {\n",
       "        vertical-align: top;\n",
       "    }\n",
       "\n",
       "    .dataframe thead th {\n",
       "        text-align: right;\n",
       "    }\n",
       "</style>\n",
       "<table border=\"1\" class=\"dataframe\">\n",
       "  <thead>\n",
       "    <tr style=\"text-align: right;\">\n",
       "      <th></th>\n",
       "      <th>norm</th>\n",
       "      <th>uniform</th>\n",
       "      <th>binomial</th>\n",
       "    </tr>\n",
       "  </thead>\n",
       "  <tbody>\n",
       "    <tr>\n",
       "      <th>2021-01-01</th>\n",
       "      <td>0.854932</td>\n",
       "      <td>0.848574</td>\n",
       "      <td>1</td>\n",
       "    </tr>\n",
       "    <tr>\n",
       "      <th>2021-01-02</th>\n",
       "      <td>-0.281776</td>\n",
       "      <td>0.091878</td>\n",
       "      <td>1</td>\n",
       "    </tr>\n",
       "    <tr>\n",
       "      <th>2021-01-03</th>\n",
       "      <td>-0.448835</td>\n",
       "      <td>0.221809</td>\n",
       "      <td>0</td>\n",
       "    </tr>\n",
       "    <tr>\n",
       "      <th>2021-01-04</th>\n",
       "      <td>-0.314480</td>\n",
       "      <td>0.338779</td>\n",
       "      <td>0</td>\n",
       "    </tr>\n",
       "    <tr>\n",
       "      <th>2021-01-05</th>\n",
       "      <td>-0.896990</td>\n",
       "      <td>0.130161</td>\n",
       "      <td>0</td>\n",
       "    </tr>\n",
       "  </tbody>\n",
       "</table>\n",
       "</div>"
      ],
      "text/plain": [
       "                norm   uniform  binomial\n",
       "2021-01-01  0.854932  0.848574         1\n",
       "2021-01-02 -0.281776  0.091878         1\n",
       "2021-01-03 -0.448835  0.221809         0\n",
       "2021-01-04 -0.314480  0.338779         0\n",
       "2021-01-05 -0.896990  0.130161         0"
      ]
     },
     "execution_count": 21,
     "metadata": {},
     "output_type": "execute_result"
    }
   ],
   "source": [
    "date_range = pd.date_range(start='2021-01-01', periods=1000)\n",
    "data = {\n",
    "    'norm': np.random.normal(loc=0, scale=1, size=1000),  # 正态分布\n",
    "    'uniform': np.random.uniform(low=0, high=1, size=1000),  # 均匀分布\n",
    "    'binomial': np.random.binomial(n=1, p=0.2, size=1000)  # 二项分布\n",
    "}\n",
    "df = pd.DataFrame(data, index=date_range)\n",
    "df.head()"
   ]
  },
  {
   "cell_type": "markdown",
   "id": "a3629599",
   "metadata": {},
   "source": [
    "### 查看DateFrame相关信息"
   ]
  },
  {
   "cell_type": "markdown",
   "id": "4f6c8a28",
   "metadata": {},
   "source": [
    "- 显示前几行"
   ]
  },
  {
   "cell_type": "code",
   "execution_count": 22,
   "id": "07ab8d04",
   "metadata": {},
   "outputs": [
    {
     "data": {
      "text/html": [
       "<div>\n",
       "<style scoped>\n",
       "    .dataframe tbody tr th:only-of-type {\n",
       "        vertical-align: middle;\n",
       "    }\n",
       "\n",
       "    .dataframe tbody tr th {\n",
       "        vertical-align: top;\n",
       "    }\n",
       "\n",
       "    .dataframe thead th {\n",
       "        text-align: right;\n",
       "    }\n",
       "</style>\n",
       "<table border=\"1\" class=\"dataframe\">\n",
       "  <thead>\n",
       "    <tr style=\"text-align: right;\">\n",
       "      <th></th>\n",
       "      <th>norm</th>\n",
       "      <th>uniform</th>\n",
       "      <th>binomial</th>\n",
       "    </tr>\n",
       "  </thead>\n",
       "  <tbody>\n",
       "    <tr>\n",
       "      <th>2021-01-01</th>\n",
       "      <td>0.854932</td>\n",
       "      <td>0.848574</td>\n",
       "      <td>1</td>\n",
       "    </tr>\n",
       "    <tr>\n",
       "      <th>2021-01-02</th>\n",
       "      <td>-0.281776</td>\n",
       "      <td>0.091878</td>\n",
       "      <td>1</td>\n",
       "    </tr>\n",
       "    <tr>\n",
       "      <th>2021-01-03</th>\n",
       "      <td>-0.448835</td>\n",
       "      <td>0.221809</td>\n",
       "      <td>0</td>\n",
       "    </tr>\n",
       "    <tr>\n",
       "      <th>2021-01-04</th>\n",
       "      <td>-0.314480</td>\n",
       "      <td>0.338779</td>\n",
       "      <td>0</td>\n",
       "    </tr>\n",
       "    <tr>\n",
       "      <th>2021-01-05</th>\n",
       "      <td>-0.896990</td>\n",
       "      <td>0.130161</td>\n",
       "      <td>0</td>\n",
       "    </tr>\n",
       "    <tr>\n",
       "      <th>2021-01-06</th>\n",
       "      <td>-0.663579</td>\n",
       "      <td>0.255092</td>\n",
       "      <td>1</td>\n",
       "    </tr>\n",
       "    <tr>\n",
       "      <th>2021-01-07</th>\n",
       "      <td>1.465039</td>\n",
       "      <td>0.504756</td>\n",
       "      <td>0</td>\n",
       "    </tr>\n",
       "    <tr>\n",
       "      <th>2021-01-08</th>\n",
       "      <td>0.436749</td>\n",
       "      <td>0.872666</td>\n",
       "      <td>0</td>\n",
       "    </tr>\n",
       "    <tr>\n",
       "      <th>2021-01-09</th>\n",
       "      <td>-0.764699</td>\n",
       "      <td>0.895701</td>\n",
       "      <td>0</td>\n",
       "    </tr>\n",
       "    <tr>\n",
       "      <th>2021-01-10</th>\n",
       "      <td>1.140323</td>\n",
       "      <td>0.673973</td>\n",
       "      <td>0</td>\n",
       "    </tr>\n",
       "  </tbody>\n",
       "</table>\n",
       "</div>"
      ],
      "text/plain": [
       "                norm   uniform  binomial\n",
       "2021-01-01  0.854932  0.848574         1\n",
       "2021-01-02 -0.281776  0.091878         1\n",
       "2021-01-03 -0.448835  0.221809         0\n",
       "2021-01-04 -0.314480  0.338779         0\n",
       "2021-01-05 -0.896990  0.130161         0\n",
       "2021-01-06 -0.663579  0.255092         1\n",
       "2021-01-07  1.465039  0.504756         0\n",
       "2021-01-08  0.436749  0.872666         0\n",
       "2021-01-09 -0.764699  0.895701         0\n",
       "2021-01-10  1.140323  0.673973         0"
      ]
     },
     "execution_count": 22,
     "metadata": {},
     "output_type": "execute_result"
    }
   ],
   "source": [
    "df.head(10)"
   ]
  },
  {
   "cell_type": "markdown",
   "id": "b16f07a6",
   "metadata": {},
   "source": [
    "- 显示末几行"
   ]
  },
  {
   "cell_type": "code",
   "execution_count": 23,
   "id": "67c22931",
   "metadata": {
    "scrolled": true
   },
   "outputs": [
    {
     "data": {
      "text/html": [
       "<div>\n",
       "<style scoped>\n",
       "    .dataframe tbody tr th:only-of-type {\n",
       "        vertical-align: middle;\n",
       "    }\n",
       "\n",
       "    .dataframe tbody tr th {\n",
       "        vertical-align: top;\n",
       "    }\n",
       "\n",
       "    .dataframe thead th {\n",
       "        text-align: right;\n",
       "    }\n",
       "</style>\n",
       "<table border=\"1\" class=\"dataframe\">\n",
       "  <thead>\n",
       "    <tr style=\"text-align: right;\">\n",
       "      <th></th>\n",
       "      <th>norm</th>\n",
       "      <th>uniform</th>\n",
       "      <th>binomial</th>\n",
       "    </tr>\n",
       "  </thead>\n",
       "  <tbody>\n",
       "    <tr>\n",
       "      <th>2023-09-18</th>\n",
       "      <td>1.148176</td>\n",
       "      <td>0.092200</td>\n",
       "      <td>1</td>\n",
       "    </tr>\n",
       "    <tr>\n",
       "      <th>2023-09-19</th>\n",
       "      <td>-0.543696</td>\n",
       "      <td>0.191729</td>\n",
       "      <td>0</td>\n",
       "    </tr>\n",
       "    <tr>\n",
       "      <th>2023-09-20</th>\n",
       "      <td>0.000603</td>\n",
       "      <td>0.260261</td>\n",
       "      <td>1</td>\n",
       "    </tr>\n",
       "    <tr>\n",
       "      <th>2023-09-21</th>\n",
       "      <td>-0.556431</td>\n",
       "      <td>0.847025</td>\n",
       "      <td>0</td>\n",
       "    </tr>\n",
       "    <tr>\n",
       "      <th>2023-09-22</th>\n",
       "      <td>-0.926265</td>\n",
       "      <td>0.336303</td>\n",
       "      <td>0</td>\n",
       "    </tr>\n",
       "    <tr>\n",
       "      <th>2023-09-23</th>\n",
       "      <td>0.356072</td>\n",
       "      <td>0.736450</td>\n",
       "      <td>1</td>\n",
       "    </tr>\n",
       "    <tr>\n",
       "      <th>2023-09-24</th>\n",
       "      <td>1.083811</td>\n",
       "      <td>0.288254</td>\n",
       "      <td>1</td>\n",
       "    </tr>\n",
       "    <tr>\n",
       "      <th>2023-09-25</th>\n",
       "      <td>0.178809</td>\n",
       "      <td>0.128490</td>\n",
       "      <td>0</td>\n",
       "    </tr>\n",
       "    <tr>\n",
       "      <th>2023-09-26</th>\n",
       "      <td>1.919913</td>\n",
       "      <td>0.684574</td>\n",
       "      <td>0</td>\n",
       "    </tr>\n",
       "    <tr>\n",
       "      <th>2023-09-27</th>\n",
       "      <td>-1.440704</td>\n",
       "      <td>0.986465</td>\n",
       "      <td>1</td>\n",
       "    </tr>\n",
       "  </tbody>\n",
       "</table>\n",
       "</div>"
      ],
      "text/plain": [
       "                norm   uniform  binomial\n",
       "2023-09-18  1.148176  0.092200         1\n",
       "2023-09-19 -0.543696  0.191729         0\n",
       "2023-09-20  0.000603  0.260261         1\n",
       "2023-09-21 -0.556431  0.847025         0\n",
       "2023-09-22 -0.926265  0.336303         0\n",
       "2023-09-23  0.356072  0.736450         1\n",
       "2023-09-24  1.083811  0.288254         1\n",
       "2023-09-25  0.178809  0.128490         0\n",
       "2023-09-26  1.919913  0.684574         0\n",
       "2023-09-27 -1.440704  0.986465         1"
      ]
     },
     "execution_count": 23,
     "metadata": {},
     "output_type": "execute_result"
    }
   ],
   "source": [
    "df.tail(10)"
   ]
  },
  {
   "cell_type": "markdown",
   "id": "d5b87c05",
   "metadata": {},
   "source": [
    "- 显示数据信息"
   ]
  },
  {
   "cell_type": "code",
   "execution_count": 24,
   "id": "e8d8881c",
   "metadata": {
    "scrolled": true
   },
   "outputs": [
    {
     "name": "stdout",
     "output_type": "stream",
     "text": [
      "<class 'pandas.core.frame.DataFrame'>\n",
      "DatetimeIndex: 1000 entries, 2021-01-01 to 2023-09-27\n",
      "Freq: D\n",
      "Data columns (total 3 columns):\n",
      " #   Column    Non-Null Count  Dtype  \n",
      "---  ------    --------------  -----  \n",
      " 0   norm      1000 non-null   float64\n",
      " 1   uniform   1000 non-null   float64\n",
      " 2   binomial  1000 non-null   int64  \n",
      "dtypes: float64(2), int64(1)\n",
      "memory usage: 31.2 KB\n"
     ]
    }
   ],
   "source": [
    "df.info()"
   ]
  },
  {
   "cell_type": "markdown",
   "id": "8689f788",
   "metadata": {},
   "source": [
    "- 显示数学统计"
   ]
  },
  {
   "cell_type": "code",
   "execution_count": 25,
   "id": "77612ea7",
   "metadata": {
    "scrolled": true
   },
   "outputs": [
    {
     "data": {
      "text/html": [
       "<div>\n",
       "<style scoped>\n",
       "    .dataframe tbody tr th:only-of-type {\n",
       "        vertical-align: middle;\n",
       "    }\n",
       "\n",
       "    .dataframe tbody tr th {\n",
       "        vertical-align: top;\n",
       "    }\n",
       "\n",
       "    .dataframe thead th {\n",
       "        text-align: right;\n",
       "    }\n",
       "</style>\n",
       "<table border=\"1\" class=\"dataframe\">\n",
       "  <thead>\n",
       "    <tr style=\"text-align: right;\">\n",
       "      <th></th>\n",
       "      <th>norm</th>\n",
       "      <th>uniform</th>\n",
       "      <th>binomial</th>\n",
       "    </tr>\n",
       "  </thead>\n",
       "  <tbody>\n",
       "    <tr>\n",
       "      <th>count</th>\n",
       "      <td>1000.000000</td>\n",
       "      <td>1000.000000</td>\n",
       "      <td>1000.00000</td>\n",
       "    </tr>\n",
       "    <tr>\n",
       "      <th>mean</th>\n",
       "      <td>0.021145</td>\n",
       "      <td>0.492878</td>\n",
       "      <td>0.19300</td>\n",
       "    </tr>\n",
       "    <tr>\n",
       "      <th>std</th>\n",
       "      <td>1.018739</td>\n",
       "      <td>0.281471</td>\n",
       "      <td>0.39485</td>\n",
       "    </tr>\n",
       "    <tr>\n",
       "      <th>min</th>\n",
       "      <td>-3.774934</td>\n",
       "      <td>0.000968</td>\n",
       "      <td>0.00000</td>\n",
       "    </tr>\n",
       "    <tr>\n",
       "      <th>25%</th>\n",
       "      <td>-0.644579</td>\n",
       "      <td>0.249878</td>\n",
       "      <td>0.00000</td>\n",
       "    </tr>\n",
       "    <tr>\n",
       "      <th>50%</th>\n",
       "      <td>0.031267</td>\n",
       "      <td>0.503162</td>\n",
       "      <td>0.00000</td>\n",
       "    </tr>\n",
       "    <tr>\n",
       "      <th>75%</th>\n",
       "      <td>0.745596</td>\n",
       "      <td>0.730276</td>\n",
       "      <td>0.00000</td>\n",
       "    </tr>\n",
       "    <tr>\n",
       "      <th>max</th>\n",
       "      <td>3.127332</td>\n",
       "      <td>0.998236</td>\n",
       "      <td>1.00000</td>\n",
       "    </tr>\n",
       "  </tbody>\n",
       "</table>\n",
       "</div>"
      ],
      "text/plain": [
       "              norm      uniform    binomial\n",
       "count  1000.000000  1000.000000  1000.00000\n",
       "mean      0.021145     0.492878     0.19300\n",
       "std       1.018739     0.281471     0.39485\n",
       "min      -3.774934     0.000968     0.00000\n",
       "25%      -0.644579     0.249878     0.00000\n",
       "50%       0.031267     0.503162     0.00000\n",
       "75%       0.745596     0.730276     0.00000\n",
       "max       3.127332     0.998236     1.00000"
      ]
     },
     "execution_count": 25,
     "metadata": {},
     "output_type": "execute_result"
    }
   ],
   "source": [
    "df.describe()"
   ]
  },
  {
   "cell_type": "markdown",
   "id": "a800942d",
   "metadata": {},
   "source": [
    "### 统计数据列的值出现次数"
   ]
  },
  {
   "cell_type": "code",
   "execution_count": 26,
   "id": "1ad54547",
   "metadata": {},
   "outputs": [
    {
     "data": {
      "text/plain": [
       "0    807\n",
       "1    193\n",
       "Name: binomial, dtype: int64"
      ]
     },
     "execution_count": 26,
     "metadata": {},
     "output_type": "execute_result"
    }
   ],
   "source": [
    "df['binomial'].value_counts()"
   ]
  },
  {
   "cell_type": "markdown",
   "id": "d2e7597e",
   "metadata": {},
   "source": [
    "### 筛选出某列最大值所在的行数据"
   ]
  },
  {
   "cell_type": "code",
   "execution_count": 27,
   "id": "0b44e01a",
   "metadata": {},
   "outputs": [
    {
     "data": {
      "text/plain": [
       "语文    100\n",
       "数学     70\n",
       "英语    100\n",
       "Name: 2, dtype: int64"
      ]
     },
     "execution_count": 27,
     "metadata": {},
     "output_type": "execute_result"
    }
   ],
   "source": [
    "grades = {'语文': [80, 90, 100], '数学': [90, 88, 70], '英语': [100, 90, 100]}\n",
    "data = pd.DataFrame(grades)\n",
    "data.loc[data['语文'].idxmax()]  # 输出Series形式"
   ]
  },
  {
   "cell_type": "code",
   "execution_count": 28,
   "id": "00be23cc",
   "metadata": {},
   "outputs": [
    {
     "data": {
      "text/html": [
       "<div>\n",
       "<style scoped>\n",
       "    .dataframe tbody tr th:only-of-type {\n",
       "        vertical-align: middle;\n",
       "    }\n",
       "\n",
       "    .dataframe tbody tr th {\n",
       "        vertical-align: top;\n",
       "    }\n",
       "\n",
       "    .dataframe thead th {\n",
       "        text-align: right;\n",
       "    }\n",
       "</style>\n",
       "<table border=\"1\" class=\"dataframe\">\n",
       "  <thead>\n",
       "    <tr style=\"text-align: right;\">\n",
       "      <th></th>\n",
       "      <th>语文</th>\n",
       "      <th>数学</th>\n",
       "      <th>英语</th>\n",
       "    </tr>\n",
       "  </thead>\n",
       "  <tbody>\n",
       "    <tr>\n",
       "      <th>2</th>\n",
       "      <td>100</td>\n",
       "      <td>70</td>\n",
       "      <td>100</td>\n",
       "    </tr>\n",
       "  </tbody>\n",
       "</table>\n",
       "</div>"
      ],
      "text/plain": [
       "    语文  数学   英语\n",
       "2  100  70  100"
      ]
     },
     "execution_count": 28,
     "metadata": {},
     "output_type": "execute_result"
    }
   ],
   "source": [
    "data.loc[[data['语文'].idxmax()]]  # 输出DateFrame形式"
   ]
  }
 ],
 "metadata": {
  "kernelspec": {
   "display_name": "Python venv0",
   "language": "python",
   "name": "venv0"
  },
  "language_info": {
   "codemirror_mode": {
    "name": "ipython",
    "version": 3
   },
   "file_extension": ".py",
   "mimetype": "text/x-python",
   "name": "python",
   "nbconvert_exporter": "python",
   "pygments_lexer": "ipython3",
   "version": "3.9.7"
  }
 },
 "nbformat": 4,
 "nbformat_minor": 5
}
