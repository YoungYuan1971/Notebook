{
 "cells": [
  {
   "cell_type": "markdown",
   "metadata": {},
   "source": [
    "### 导入包"
   ]
  },
  {
   "cell_type": "code",
   "execution_count": 1,
   "metadata": {},
   "outputs": [],
   "source": [
    "from faker import Faker\n",
    "import pandas as pd\n",
    "from tqdm import tqdm\n",
    "import sqlite3 as sl"
   ]
  },
  {
   "cell_type": "markdown",
   "metadata": {},
   "source": [
    "### 实例化对象，选择中文"
   ]
  },
  {
   "cell_type": "code",
   "execution_count": 2,
   "metadata": {},
   "outputs": [],
   "source": [
    "fake = Faker(locale='zh_CN')"
   ]
  },
  {
   "cell_type": "markdown",
   "metadata": {},
   "source": [
    "### 使用pandas创建表"
   ]
  },
  {
   "cell_type": "code",
   "execution_count": 3,
   "metadata": {
    "scrolled": true
   },
   "outputs": [
    {
     "name": "stderr",
     "output_type": "stream",
     "text": [
      "100%|██████████████████████████████████| 100000/100000 [09:12<00:00, 181.08it/s]\n"
     ]
    },
    {
     "data": {
      "text/html": [
       "<div>\n",
       "<style scoped>\n",
       "    .dataframe tbody tr th:only-of-type {\n",
       "        vertical-align: middle;\n",
       "    }\n",
       "\n",
       "    .dataframe tbody tr th {\n",
       "        vertical-align: top;\n",
       "    }\n",
       "\n",
       "    .dataframe thead th {\n",
       "        text-align: right;\n",
       "    }\n",
       "</style>\n",
       "<table border=\"1\" class=\"dataframe\">\n",
       "  <thead>\n",
       "    <tr style=\"text-align: right;\">\n",
       "      <th></th>\n",
       "      <th>姓名</th>\n",
       "      <th>电话</th>\n",
       "      <th>出生日期</th>\n",
       "      <th>所在公司</th>\n",
       "      <th>职位</th>\n",
       "      <th>地址</th>\n",
       "      <th>电子邮件</th>\n",
       "    </tr>\n",
       "  </thead>\n",
       "  <tbody>\n",
       "    <tr>\n",
       "      <th>0</th>\n",
       "      <td>徐玉梅</td>\n",
       "      <td>13162566671</td>\n",
       "      <td>2020-11-26</td>\n",
       "      <td>天开科技有限公司</td>\n",
       "      <td>市场/营销/拓展总监</td>\n",
       "      <td>重庆市淮安县和平秦街v座 709882</td>\n",
       "      <td>hyan@gmail.com</td>\n",
       "    </tr>\n",
       "    <tr>\n",
       "      <th>1</th>\n",
       "      <td>王秀梅</td>\n",
       "      <td>14552279876</td>\n",
       "      <td>2010-05-02</td>\n",
       "      <td>迪摩科技有限公司</td>\n",
       "      <td>实习生</td>\n",
       "      <td>黑龙江省婷婷县南湖淮安街z座 852820</td>\n",
       "      <td>duanjuan@yanlei.cn</td>\n",
       "    </tr>\n",
       "    <tr>\n",
       "      <th>2</th>\n",
       "      <td>张桂芝</td>\n",
       "      <td>15935881768</td>\n",
       "      <td>2019-11-25</td>\n",
       "      <td>思优网络有限公司</td>\n",
       "      <td>网站编辑</td>\n",
       "      <td>江西省太原市新城徐街J座 158484</td>\n",
       "      <td>hanjie@yahoo.com</td>\n",
       "    </tr>\n",
       "    <tr>\n",
       "      <th>3</th>\n",
       "      <td>陆彬</td>\n",
       "      <td>18272609670</td>\n",
       "      <td>1999-09-13</td>\n",
       "      <td>新宇龙信息网络有限公司</td>\n",
       "      <td>合伙人</td>\n",
       "      <td>内蒙古自治区澳门市海陵夏街N座 520644</td>\n",
       "      <td>fang49@24.cn</td>\n",
       "    </tr>\n",
       "    <tr>\n",
       "      <th>4</th>\n",
       "      <td>陈秀华</td>\n",
       "      <td>15928923273</td>\n",
       "      <td>1977-04-10</td>\n",
       "      <td>昊嘉传媒有限公司</td>\n",
       "      <td>裁剪工</td>\n",
       "      <td>浙江省亮市萧山霍街i座 650382</td>\n",
       "      <td>qinguiying@hotmail.com</td>\n",
       "    </tr>\n",
       "    <tr>\n",
       "      <th>5</th>\n",
       "      <td>李璐</td>\n",
       "      <td>18278423632</td>\n",
       "      <td>1986-01-03</td>\n",
       "      <td>良诺信息有限公司</td>\n",
       "      <td>成本经理/成本主管</td>\n",
       "      <td>澳门特别行政区潮州市上街太原街N座 190733</td>\n",
       "      <td>jun50@qiangqiang.org</td>\n",
       "    </tr>\n",
       "    <tr>\n",
       "      <th>6</th>\n",
       "      <td>萧桂芝</td>\n",
       "      <td>15096512993</td>\n",
       "      <td>1996-05-01</td>\n",
       "      <td>凌颖信息传媒有限公司</td>\n",
       "      <td>技术总监/经理</td>\n",
       "      <td>安徽省哈尔滨县萧山合肥路g座 261043</td>\n",
       "      <td>ping24@liangyi.cn</td>\n",
       "    </tr>\n",
       "    <tr>\n",
       "      <th>7</th>\n",
       "      <td>沈建华</td>\n",
       "      <td>14759900240</td>\n",
       "      <td>1994-08-28</td>\n",
       "      <td>MBP软件传媒有限公司</td>\n",
       "      <td>其他</td>\n",
       "      <td>甘肃省西安县合川张街b座 860387</td>\n",
       "      <td>houlei@20.cn</td>\n",
       "    </tr>\n",
       "    <tr>\n",
       "      <th>8</th>\n",
       "      <td>吴博</td>\n",
       "      <td>13254507227</td>\n",
       "      <td>2020-08-31</td>\n",
       "      <td>盟新科技有限公司</td>\n",
       "      <td>投资者关系</td>\n",
       "      <td>香港特别行政区太原县友好石家庄路i座 242905</td>\n",
       "      <td>xiahao@yahoo.com</td>\n",
       "    </tr>\n",
       "    <tr>\n",
       "      <th>9</th>\n",
       "      <td>刘晨</td>\n",
       "      <td>15080901175</td>\n",
       "      <td>1998-07-17</td>\n",
       "      <td>立信电子科技有限公司</td>\n",
       "      <td>加油站工作员</td>\n",
       "      <td>四川省宁市清城海门路N座 571379</td>\n",
       "      <td>pingbai@ii.cn</td>\n",
       "    </tr>\n",
       "  </tbody>\n",
       "</table>\n",
       "</div>"
      ],
      "text/plain": [
       "    姓名           电话        出生日期         所在公司          职位  \\\n",
       "0  徐玉梅  13162566671  2020-11-26     天开科技有限公司  市场/营销/拓展总监   \n",
       "1  王秀梅  14552279876  2010-05-02     迪摩科技有限公司         实习生   \n",
       "2  张桂芝  15935881768  2019-11-25     思优网络有限公司        网站编辑   \n",
       "3   陆彬  18272609670  1999-09-13  新宇龙信息网络有限公司         合伙人   \n",
       "4  陈秀华  15928923273  1977-04-10     昊嘉传媒有限公司         裁剪工   \n",
       "5   李璐  18278423632  1986-01-03     良诺信息有限公司   成本经理/成本主管   \n",
       "6  萧桂芝  15096512993  1996-05-01   凌颖信息传媒有限公司     技术总监/经理   \n",
       "7  沈建华  14759900240  1994-08-28  MBP软件传媒有限公司          其他   \n",
       "8   吴博  13254507227  2020-08-31     盟新科技有限公司       投资者关系   \n",
       "9   刘晨  15080901175  1998-07-17   立信电子科技有限公司      加油站工作员   \n",
       "\n",
       "                          地址                    电子邮件  \n",
       "0        重庆市淮安县和平秦街v座 709882          hyan@gmail.com  \n",
       "1      黑龙江省婷婷县南湖淮安街z座 852820      duanjuan@yanlei.cn  \n",
       "2        江西省太原市新城徐街J座 158484        hanjie@yahoo.com  \n",
       "3     内蒙古自治区澳门市海陵夏街N座 520644            fang49@24.cn  \n",
       "4         浙江省亮市萧山霍街i座 650382  qinguiying@hotmail.com  \n",
       "5   澳门特别行政区潮州市上街太原街N座 190733    jun50@qiangqiang.org  \n",
       "6      安徽省哈尔滨县萧山合肥路g座 261043       ping24@liangyi.cn  \n",
       "7        甘肃省西安县合川张街b座 860387            houlei@20.cn  \n",
       "8  香港特别行政区太原县友好石家庄路i座 242905        xiahao@yahoo.com  \n",
       "9        四川省宁市清城海门路N座 571379           pingbai@ii.cn  "
      ]
     },
     "execution_count": 3,
     "metadata": {},
     "output_type": "execute_result"
    }
   ],
   "source": [
    "df = pd.DataFrame()\n",
    "for i in tqdm(range(100000)):\n",
    "    df.loc[i, '姓名'] = fake.name()\n",
    "    df.loc[i, '电话'] = fake.phone_number()\n",
    "    df.loc[i, '出生日期'] = fake.date()\n",
    "    df.loc[i, '所在公司'] = fake.company()\n",
    "    df.loc[i, '职位'] = fake.job()\n",
    "    df.loc[i, '地址'] = fake.address()\n",
    "    df.loc[i, '电子邮件'] = fake.email()\n",
    "df.head(10)"
   ]
  },
  {
   "cell_type": "markdown",
   "metadata": {},
   "source": [
    "### 数据永久化存储至数据库"
   ]
  },
  {
   "cell_type": "code",
   "execution_count": 5,
   "metadata": {},
   "outputs": [],
   "source": [
    "cnn = sl.connect('伪数据.db')\n",
    "df.to_sql('mytable', con=cnn, if_exists='replace', index=False)"
   ]
  }
 ],
 "metadata": {
  "kernelspec": {
   "display_name": "Python 3.8.8 64-bit ('venv0': venv)",
   "language": "python",
   "name": "python388jvsc74a57bd0efbf56fc117e418e44edda1cb10ef72e1d236bfeb453c90c79d8abd3fc7dd926"
  },
  "language_info": {
   "codemirror_mode": {
    "name": "ipython",
    "version": 3
   },
   "file_extension": ".py",
   "mimetype": "text/x-python",
   "name": "python",
   "nbconvert_exporter": "python",
   "pygments_lexer": "ipython3",
   "version": "3.8.8"
  }
 },
 "nbformat": 4,
 "nbformat_minor": 4
}
